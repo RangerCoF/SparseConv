{
  "nbformat": 4,
  "nbformat_minor": 0,
  "metadata": {
    "colab": {
      "provenance": [],
      "gpuType": "T4",
      "authorship_tag": "ABX9TyOKyTHYUrmxVACTvY1dVrGz",
      "include_colab_link": true
    },
    "kernelspec": {
      "name": "python3",
      "display_name": "Python 3"
    },
    "language_info": {
      "name": "python"
    },
    "accelerator": "GPU"
  },
  "cells": [
    {
      "cell_type": "markdown",
      "metadata": {
        "id": "view-in-github",
        "colab_type": "text"
      },
      "source": [
        "<a href=\"https://colab.research.google.com/github/RangerCoF/SparseConv/blob/main/ACC.ipynb\" target=\"_parent\"><img src=\"https://colab.research.google.com/assets/colab-badge.svg\" alt=\"Open In Colab\"/></a>"
      ]
    },
    {
      "cell_type": "code",
      "execution_count": 1,
      "metadata": {
        "id": "1a9gHz1GXp-q"
      },
      "outputs": [],
      "source": [
        "import matplotlib.pyplot as plt\n",
        "import numpy as np\n",
        "\n",
        "import torch\n",
        "import torch.nn as nn\n",
        "import torch.nn.functional as F\n",
        "from torch.utils.data import Dataset,DataLoader\n",
        "import torch.optim as optim\n",
        "import torchvision\n",
        "import torchvision.transforms as transforms\n",
        "\n",
        "from tqdm import tqdm"
      ]
    },
    {
      "cell_type": "code",
      "source": [
        "if torch.cuda.is_available():\n",
        "    device = torch.device(\"cuda\")\n",
        "    print(\"device=cuda\")\n",
        "else:\n",
        "    device = torch.device(\"cpu\")\n",
        "    print(\"device=cpu\")"
      ],
      "metadata": {
        "colab": {
          "base_uri": "https://localhost:8080/"
        },
        "id": "VXR0MzvuXuk-",
        "outputId": "ed79e01e-e78a-47c9-d3b3-5f70de1169eb"
      },
      "execution_count": 2,
      "outputs": [
        {
          "output_type": "stream",
          "name": "stdout",
          "text": [
            "device=cuda\n"
          ]
        }
      ]
    },
    {
      "cell_type": "code",
      "source": [
        "transform = transforms.Compose([\n",
        "    transforms.ToTensor(),\n",
        "#    transforms.Normalize((0.5,), (0.5,))\n",
        "])"
      ],
      "metadata": {
        "id": "5mexl-HAXwAb"
      },
      "execution_count": 3,
      "outputs": []
    },
    {
      "cell_type": "code",
      "source": [
        "class ConvNetDataset(Dataset):\n",
        "  def __init__(self, data, targets, device):\n",
        "    self.data = data.to(device)\n",
        "    self.targets = targets.to(device)\n",
        "\n",
        "  def __len__(self):\n",
        "    return len(self.data)\n",
        "\n",
        "  def __getitem__(self, idx):\n",
        "    data = self.data[idx]\n",
        "    targets = self.targets[idx]\n",
        "    return data, targets"
      ],
      "metadata": {
        "id": "yg48tKyVX1is"
      },
      "execution_count": 4,
      "outputs": []
    },
    {
      "cell_type": "code",
      "source": [
        "trainset = torchvision.datasets.MNIST(root='./data', train=True, download=True, transform=transform)\n",
        "traindata = []\n",
        "traintargets = []\n",
        "for sample in trainset:\n",
        "  traindata.append(sample[0])\n",
        "  traintargets.append(sample[1])\n",
        "\n",
        "traindata = torch.stack(traindata, dim=0)\n",
        "traintargets = torch.tensor(traintargets)\n",
        "\n",
        "testset = torchvision.datasets.MNIST(root='./data', train=False, download=True, transform=transform)\n",
        "testdata = []\n",
        "testtargets = []\n",
        "for sample in testset:\n",
        "  testdata.append(sample[0])\n",
        "  testtargets.append(sample[1])\n",
        "\n",
        "testdata = torch.stack(testdata, dim=0)\n",
        "testtargets = torch.tensor(testtargets)"
      ],
      "metadata": {
        "id": "I01dW1xMX34g"
      },
      "execution_count": 5,
      "outputs": []
    },
    {
      "cell_type": "code",
      "source": [
        "class ConvBlock(nn.Module):\n",
        "  def __init__(\n",
        "      self,\n",
        "      in_channels,\n",
        "      out_channels,\n",
        "      kernel_size,\n",
        "      stride=1,\n",
        "      padding='same',\n",
        "      dilation=1):\n",
        "    super(ConvBlock, self).__init__()\n",
        "\n",
        "    self.conv = nn.Conv2d(\n",
        "      in_channels=in_channels,\n",
        "      out_channels=out_channels,\n",
        "      kernel_size=kernel_size,\n",
        "      stride=stride,\n",
        "      padding=padding,\n",
        "      dilation=dilation,\n",
        "      bias=True)\n",
        "\n",
        "    self.relu = nn.ReLU(inplace=True)\n",
        "    self.pool = nn.MaxPool2d(2, 2)\n",
        "    self.norm = nn.BatchNorm2d(out_channels)\n",
        "\n",
        "  def forward(self, x):\n",
        "    x = self.conv(x)\n",
        "    x = self.relu(x)\n",
        "    x = self.pool(x)\n",
        "    x = self.norm(x)\n",
        "    return x\n",
        "\n",
        "class SparseConvBlock(nn.Module):\n",
        "  def __init__(\n",
        "      self,\n",
        "      in_channels,\n",
        "      out_channels,\n",
        "      kernel_size,\n",
        "      stride=1,\n",
        "      padding='same',\n",
        "      dilation=1):\n",
        "    super(SparseConvBlock, self).__init__()\n",
        "\n",
        "    self.conv = nn.Conv2d(\n",
        "      in_channels=in_channels,\n",
        "      out_channels=out_channels,\n",
        "      kernel_size=kernel_size,\n",
        "      stride=stride,\n",
        "      padding=padding,\n",
        "      dilation=dilation,\n",
        "      bias=False)\n",
        "\n",
        "    self.bias = nn.Parameter(\n",
        "      torch.zeros(out_channels),\n",
        "      requires_grad=True)\n",
        "\n",
        "    self.sparsity = nn.Conv2d(\n",
        "      in_channels=1,\n",
        "      out_channels=1,\n",
        "      kernel_size=kernel_size,\n",
        "      padding=padding,\n",
        "      dilation=dilation,\n",
        "      bias=False)\n",
        "    kernel = torch.FloatTensor(torch.ones([kernel_size, kernel_size])).unsqueeze(0).unsqueeze(0)\n",
        "    self.sparsity.weight = nn.Parameter(\n",
        "      data=kernel,\n",
        "      requires_grad=False)\n",
        "\n",
        "    self.relu = nn.ReLU(inplace=True)\n",
        "    self.pool = nn.MaxPool2d(2, 2)\n",
        "    self.norm = nn.BatchNorm2d(out_channels)\n",
        "\n",
        "  def forward(self, x, mask):\n",
        "    x = self.conv(x * mask)\n",
        "    normalizer = self.sparsity(mask) + 1e-8\n",
        "    x = x / normalizer + self.bias.unsqueeze(0).unsqueeze(2).unsqueeze(3)\n",
        "    x = self.relu(x)\n",
        "    x = self.pool(x)\n",
        "    x = self.norm(x)\n",
        "    mask = self.pool(mask)\n",
        "    return x, mask\n"
      ],
      "metadata": {
        "id": "JHlAP8eUYSyj"
      },
      "execution_count": 6,
      "outputs": []
    },
    {
      "cell_type": "code",
      "source": [
        "class ConvNet(nn.Module):\n",
        "    def __init__(self):\n",
        "      super(ConvNet, self).__init__()\n",
        "      self.conv1 = ConvBlock(1, 6, 5, padding='same')\n",
        "      self.conv2 = ConvBlock(6, 16, 5, padding='same')\n",
        "\n",
        "\n",
        "      self.fc1 = nn.Linear(16 * 7 * 7, 120)\n",
        "      self.fc2 = nn.Linear(120, 84)\n",
        "      self.fc3 = nn.Linear(84, 10)\n",
        "\n",
        "    def forward(self, x):\n",
        "      x = x[:, :-1, :, :]\n",
        "\n",
        "      x = self.conv1(x)\n",
        "\n",
        "      x = self.conv2(x)\n",
        "\n",
        "      x = x.view(-1, 16 * 7 * 7)\n",
        "      x = torch.relu(self.fc1(x))\n",
        "      x = torch.relu(self.fc2(x))\n",
        "      x = self.fc3(x)\n",
        "      return x\n",
        "\n",
        "class SparseConvNet(nn.Module):\n",
        "    def __init__(self):\n",
        "      super(SparseConvNet, self).__init__()\n",
        "      self.conv1 = SparseConvBlock(1, 6, 5, padding='same')\n",
        "      self.conv2 = SparseConvBlock(6, 16, 5, padding='same')\n",
        "\n",
        "\n",
        "      self.fc1 = nn.Linear(16 * 7 * 7, 120)\n",
        "      self.fc2 = nn.Linear(120, 84)\n",
        "      self.fc3 = nn.Linear(84, 10)\n",
        "\n",
        "    def forward(self, x):\n",
        "      mask = x[:, -1:, :, :]\n",
        "      x = x[:, :-1, :, :]\n",
        "\n",
        "      x, mask = self.conv1(x, mask)\n",
        "\n",
        "      x, mask = self.conv2(x, mask)\n",
        "      # print(x.shape)\n",
        "      # print(mask.shape)\n",
        "\n",
        "      x = x.view(-1, 16 * 7 * 7)\n",
        "      x = torch.relu(self.fc1(x))\n",
        "      x = torch.relu(self.fc2(x))\n",
        "      x = self.fc3(x)\n",
        "      return x"
      ],
      "metadata": {
        "id": "-XndRfRNYrrI"
      },
      "execution_count": 7,
      "outputs": []
    },
    {
      "cell_type": "code",
      "source": [
        "prob_list = np.arange(0, 1, 0.05)\n",
        "acc_conv = []\n",
        "\n",
        "for prob in tqdm(prob_list):\n",
        "  trainmask = torch.bernoulli(torch.full(traindata.shape, 1 - prob))\n",
        "  trainset_input = torch.cat((traindata * trainmask, trainmask), dim=1)\n",
        "  trainset = ConvNetDataset(trainset_input, traintargets, device)\n",
        "\n",
        "  testmask = torch.bernoulli(torch.full(testdata.shape, 1 - prob))\n",
        "  testset_input = torch.cat((testdata * testmask, testmask), dim=1)\n",
        "  testset = ConvNetDataset(testset_input, testtargets, device)\n",
        "\n",
        "  trainloader = torch.utils.data.DataLoader(trainset, batch_size=64, shuffle=True, num_workers=0, pin_memory=False)\n",
        "  testloader = torch.utils.data.DataLoader(testset, batch_size=64, shuffle=False, num_workers=0, pin_memory=False)\n",
        "  net = ConvNet().to(device)\n",
        "\n",
        "  criterion = nn.CrossEntropyLoss()\n",
        "  optimizer = optim.SGD(net.parameters(), lr=0.001, momentum=0.9)\n",
        "\n",
        "  for epoch in range(2):\n",
        "      running_loss = 0.0\n",
        "      for i, data in enumerate(trainloader, 0):\n",
        "\n",
        "        inputs, labels = data\n",
        "        optimizer.zero_grad()\n",
        "\n",
        "        outputs = net(inputs)\n",
        "        loss = criterion(outputs, labels)\n",
        "        loss.backward()\n",
        "        optimizer.step()\n",
        "\n",
        "        running_loss += loss.item()\n",
        "        if i % 2000 == 1999:\n",
        "            print('[%d, %5d] loss: %.3f' %\n",
        "                  (epoch + 1, i + 1, running_loss / 2000))\n",
        "            running_loss = 0.0\n",
        "\n",
        "  print('Finished Training')\n",
        "\n",
        "  correct = 0\n",
        "  total = 0\n",
        "  with torch.no_grad():\n",
        "      for data in testloader:\n",
        "          images, labels = data\n",
        "          outputs = net(images)\n",
        "          _, predicted = torch.max(outputs.data, 1)\n",
        "          total += labels.size(0)\n",
        "          correct += (predicted == labels).sum().item()\n",
        "  acc_conv.append(correct / total)\n",
        "\n"
      ],
      "metadata": {
        "colab": {
          "base_uri": "https://localhost:8080/"
        },
        "id": "ikOeY9PnZ1CS",
        "outputId": "a9e57b9f-e089-4909-ca75-6ad142507e6a"
      },
      "execution_count": 8,
      "outputs": [
        {
          "output_type": "stream",
          "name": "stderr",
          "text": [
            "\r  0%|          | 0/20 [00:00<?, ?it/s]"
          ]
        },
        {
          "output_type": "stream",
          "name": "stdout",
          "text": [
            "Finished Training\n"
          ]
        },
        {
          "output_type": "stream",
          "name": "stderr",
          "text": [
            "\r  5%|▌         | 1/20 [00:07<02:20,  7.42s/it]"
          ]
        },
        {
          "output_type": "stream",
          "name": "stdout",
          "text": [
            "Finished Training\n"
          ]
        },
        {
          "output_type": "stream",
          "name": "stderr",
          "text": [
            "\r 10%|█         | 2/20 [00:14<02:11,  7.30s/it]"
          ]
        },
        {
          "output_type": "stream",
          "name": "stdout",
          "text": [
            "Finished Training\n"
          ]
        },
        {
          "output_type": "stream",
          "name": "stderr",
          "text": [
            "\r 15%|█▌        | 3/20 [00:21<01:59,  7.06s/it]"
          ]
        },
        {
          "output_type": "stream",
          "name": "stdout",
          "text": [
            "Finished Training\n"
          ]
        },
        {
          "output_type": "stream",
          "name": "stderr",
          "text": [
            "\r 20%|██        | 4/20 [00:28<01:54,  7.16s/it]"
          ]
        },
        {
          "output_type": "stream",
          "name": "stdout",
          "text": [
            "Finished Training\n"
          ]
        },
        {
          "output_type": "stream",
          "name": "stderr",
          "text": [
            "\r 25%|██▌       | 5/20 [00:36<01:48,  7.26s/it]"
          ]
        },
        {
          "output_type": "stream",
          "name": "stdout",
          "text": [
            "Finished Training\n"
          ]
        },
        {
          "output_type": "stream",
          "name": "stderr",
          "text": [
            "\r 30%|███       | 6/20 [00:43<01:40,  7.21s/it]"
          ]
        },
        {
          "output_type": "stream",
          "name": "stdout",
          "text": [
            "Finished Training\n"
          ]
        },
        {
          "output_type": "stream",
          "name": "stderr",
          "text": [
            "\r 35%|███▌      | 7/20 [00:50<01:34,  7.29s/it]"
          ]
        },
        {
          "output_type": "stream",
          "name": "stdout",
          "text": [
            "Finished Training\n"
          ]
        },
        {
          "output_type": "stream",
          "name": "stderr",
          "text": [
            "\r 40%|████      | 8/20 [00:57<01:26,  7.18s/it]"
          ]
        },
        {
          "output_type": "stream",
          "name": "stdout",
          "text": [
            "Finished Training\n"
          ]
        },
        {
          "output_type": "stream",
          "name": "stderr",
          "text": [
            "\r 45%|████▌     | 9/20 [01:05<01:20,  7.33s/it]"
          ]
        },
        {
          "output_type": "stream",
          "name": "stdout",
          "text": [
            "Finished Training\n"
          ]
        },
        {
          "output_type": "stream",
          "name": "stderr",
          "text": [
            "\r 50%|█████     | 10/20 [01:13<01:15,  7.59s/it]"
          ]
        },
        {
          "output_type": "stream",
          "name": "stdout",
          "text": [
            "Finished Training\n"
          ]
        },
        {
          "output_type": "stream",
          "name": "stderr",
          "text": [
            "\r 55%|█████▌    | 11/20 [01:20<01:07,  7.54s/it]"
          ]
        },
        {
          "output_type": "stream",
          "name": "stdout",
          "text": [
            "Finished Training\n"
          ]
        },
        {
          "output_type": "stream",
          "name": "stderr",
          "text": [
            "\r 60%|██████    | 12/20 [01:28<01:00,  7.55s/it]"
          ]
        },
        {
          "output_type": "stream",
          "name": "stdout",
          "text": [
            "Finished Training\n"
          ]
        },
        {
          "output_type": "stream",
          "name": "stderr",
          "text": [
            "\r 65%|██████▌   | 13/20 [01:36<00:52,  7.56s/it]"
          ]
        },
        {
          "output_type": "stream",
          "name": "stdout",
          "text": [
            "Finished Training\n"
          ]
        },
        {
          "output_type": "stream",
          "name": "stderr",
          "text": [
            "\r 70%|███████   | 14/20 [01:43<00:44,  7.38s/it]"
          ]
        },
        {
          "output_type": "stream",
          "name": "stdout",
          "text": [
            "Finished Training\n"
          ]
        },
        {
          "output_type": "stream",
          "name": "stderr",
          "text": [
            "\r 75%|███████▌  | 15/20 [01:50<00:36,  7.37s/it]"
          ]
        },
        {
          "output_type": "stream",
          "name": "stdout",
          "text": [
            "Finished Training\n"
          ]
        },
        {
          "output_type": "stream",
          "name": "stderr",
          "text": [
            "\r 80%|████████  | 16/20 [01:57<00:28,  7.21s/it]"
          ]
        },
        {
          "output_type": "stream",
          "name": "stdout",
          "text": [
            "Finished Training\n"
          ]
        },
        {
          "output_type": "stream",
          "name": "stderr",
          "text": [
            "\r 85%|████████▌ | 17/20 [02:04<00:21,  7.30s/it]"
          ]
        },
        {
          "output_type": "stream",
          "name": "stdout",
          "text": [
            "Finished Training\n"
          ]
        },
        {
          "output_type": "stream",
          "name": "stderr",
          "text": [
            "\r 90%|█████████ | 18/20 [02:11<00:14,  7.26s/it]"
          ]
        },
        {
          "output_type": "stream",
          "name": "stdout",
          "text": [
            "Finished Training\n"
          ]
        },
        {
          "output_type": "stream",
          "name": "stderr",
          "text": [
            "\r 95%|█████████▌| 19/20 [02:18<00:07,  7.10s/it]"
          ]
        },
        {
          "output_type": "stream",
          "name": "stdout",
          "text": [
            "Finished Training\n"
          ]
        },
        {
          "output_type": "stream",
          "name": "stderr",
          "text": [
            "100%|██████████| 20/20 [02:25<00:00,  7.29s/it]\n"
          ]
        }
      ]
    },
    {
      "cell_type": "code",
      "source": [
        "acc_sparseconv = []\n",
        "\n",
        "for prob in tqdm(prob_list):\n",
        "  trainmask = torch.bernoulli(torch.full(traindata.shape, 1 - prob))\n",
        "  trainset_input = torch.cat((traindata * trainmask, trainmask), dim=1)\n",
        "  trainset = ConvNetDataset(trainset_input, traintargets, device)\n",
        "\n",
        "  testmask = torch.bernoulli(torch.full(testdata.shape, 1 - prob))\n",
        "  testset_input = torch.cat((testdata * testmask, testmask), dim=1)\n",
        "  testset = ConvNetDataset(testset_input, testtargets, device)\n",
        "\n",
        "  trainloader = torch.utils.data.DataLoader(trainset, batch_size=64, shuffle=True, num_workers=0, pin_memory=False)\n",
        "  testloader = torch.utils.data.DataLoader(testset, batch_size=64, shuffle=False, num_workers=0, pin_memory=False)\n",
        "  net = SparseConvNet().to(device)\n",
        "\n",
        "  criterion = nn.CrossEntropyLoss()\n",
        "  optimizer = optim.SGD(net.parameters(), lr=0.001, momentum=0.9)\n",
        "\n",
        "  for epoch in range(2):\n",
        "      running_loss = 0.0\n",
        "      for i, data in enumerate(trainloader, 0):\n",
        "\n",
        "        inputs, labels = data\n",
        "        optimizer.zero_grad()\n",
        "\n",
        "        outputs = net(inputs)\n",
        "        loss = criterion(outputs, labels)\n",
        "        loss.backward()\n",
        "        optimizer.step()\n",
        "\n",
        "        running_loss += loss.item()\n",
        "        if i % 2000 == 1999:\n",
        "            print('[%d, %5d] loss: %.3f' %\n",
        "                  (epoch + 1, i + 1, running_loss / 2000))\n",
        "            running_loss = 0.0\n",
        "\n",
        "  print('Finished Training')\n",
        "\n",
        "  correct = 0\n",
        "  total = 0\n",
        "  with torch.no_grad():\n",
        "      for data in testloader:\n",
        "          images, labels = data\n",
        "          outputs = net(images)\n",
        "          _, predicted = torch.max(outputs.data, 1)\n",
        "          total += labels.size(0)\n",
        "          correct += (predicted == labels).sum().item()\n",
        "  acc_sparseconv.append(correct / total)"
      ],
      "metadata": {
        "colab": {
          "base_uri": "https://localhost:8080/"
        },
        "id": "svsjkwQ2Z3KN",
        "outputId": "63662878-1fda-4f42-de6a-7f855a476cce"
      },
      "execution_count": 9,
      "outputs": [
        {
          "output_type": "stream",
          "name": "stderr",
          "text": [
            "\r  0%|          | 0/20 [00:00<?, ?it/s]"
          ]
        },
        {
          "output_type": "stream",
          "name": "stdout",
          "text": [
            "Finished Training\n"
          ]
        },
        {
          "output_type": "stream",
          "name": "stderr",
          "text": [
            "\r  5%|▌         | 1/20 [00:07<02:28,  7.84s/it]"
          ]
        },
        {
          "output_type": "stream",
          "name": "stdout",
          "text": [
            "Finished Training\n"
          ]
        },
        {
          "output_type": "stream",
          "name": "stderr",
          "text": [
            "\r 10%|█         | 2/20 [00:15<02:22,  7.92s/it]"
          ]
        },
        {
          "output_type": "stream",
          "name": "stdout",
          "text": [
            "Finished Training\n"
          ]
        },
        {
          "output_type": "stream",
          "name": "stderr",
          "text": [
            "\r 15%|█▌        | 3/20 [00:23<02:16,  8.03s/it]"
          ]
        },
        {
          "output_type": "stream",
          "name": "stdout",
          "text": [
            "Finished Training\n"
          ]
        },
        {
          "output_type": "stream",
          "name": "stderr",
          "text": [
            "\r 20%|██        | 4/20 [00:31<02:07,  7.94s/it]"
          ]
        },
        {
          "output_type": "stream",
          "name": "stdout",
          "text": [
            "Finished Training\n"
          ]
        },
        {
          "output_type": "stream",
          "name": "stderr",
          "text": [
            "\r 25%|██▌       | 5/20 [00:40<02:01,  8.08s/it]"
          ]
        },
        {
          "output_type": "stream",
          "name": "stdout",
          "text": [
            "Finished Training\n"
          ]
        },
        {
          "output_type": "stream",
          "name": "stderr",
          "text": [
            "\r 30%|███       | 6/20 [00:48<01:53,  8.13s/it]"
          ]
        },
        {
          "output_type": "stream",
          "name": "stdout",
          "text": [
            "Finished Training\n"
          ]
        },
        {
          "output_type": "stream",
          "name": "stderr",
          "text": [
            "\r 35%|███▌      | 7/20 [00:56<01:46,  8.19s/it]"
          ]
        },
        {
          "output_type": "stream",
          "name": "stdout",
          "text": [
            "Finished Training\n"
          ]
        },
        {
          "output_type": "stream",
          "name": "stderr",
          "text": [
            "\r 40%|████      | 8/20 [01:04<01:37,  8.14s/it]"
          ]
        },
        {
          "output_type": "stream",
          "name": "stdout",
          "text": [
            "Finished Training\n"
          ]
        },
        {
          "output_type": "stream",
          "name": "stderr",
          "text": [
            "\r 45%|████▌     | 9/20 [01:13<01:31,  8.28s/it]"
          ]
        },
        {
          "output_type": "stream",
          "name": "stdout",
          "text": [
            "Finished Training\n"
          ]
        },
        {
          "output_type": "stream",
          "name": "stderr",
          "text": [
            "\r 50%|█████     | 10/20 [01:21<01:23,  8.33s/it]"
          ]
        },
        {
          "output_type": "stream",
          "name": "stdout",
          "text": [
            "Finished Training\n"
          ]
        },
        {
          "output_type": "stream",
          "name": "stderr",
          "text": [
            "\r 55%|█████▌    | 11/20 [01:29<01:14,  8.23s/it]"
          ]
        },
        {
          "output_type": "stream",
          "name": "stdout",
          "text": [
            "Finished Training\n"
          ]
        },
        {
          "output_type": "stream",
          "name": "stderr",
          "text": [
            "\r 60%|██████    | 12/20 [01:38<01:06,  8.31s/it]"
          ]
        },
        {
          "output_type": "stream",
          "name": "stdout",
          "text": [
            "Finished Training\n"
          ]
        },
        {
          "output_type": "stream",
          "name": "stderr",
          "text": [
            "\r 65%|██████▌   | 13/20 [01:46<00:58,  8.36s/it]"
          ]
        },
        {
          "output_type": "stream",
          "name": "stdout",
          "text": [
            "Finished Training\n"
          ]
        },
        {
          "output_type": "stream",
          "name": "stderr",
          "text": [
            "\r 70%|███████   | 14/20 [01:54<00:49,  8.27s/it]"
          ]
        },
        {
          "output_type": "stream",
          "name": "stdout",
          "text": [
            "Finished Training\n"
          ]
        },
        {
          "output_type": "stream",
          "name": "stderr",
          "text": [
            "\r 75%|███████▌  | 15/20 [02:03<00:41,  8.26s/it]"
          ]
        },
        {
          "output_type": "stream",
          "name": "stdout",
          "text": [
            "Finished Training\n"
          ]
        },
        {
          "output_type": "stream",
          "name": "stderr",
          "text": [
            "\r 80%|████████  | 16/20 [02:11<00:33,  8.29s/it]"
          ]
        },
        {
          "output_type": "stream",
          "name": "stdout",
          "text": [
            "Finished Training\n"
          ]
        },
        {
          "output_type": "stream",
          "name": "stderr",
          "text": [
            "\r 85%|████████▌ | 17/20 [02:19<00:24,  8.21s/it]"
          ]
        },
        {
          "output_type": "stream",
          "name": "stdout",
          "text": [
            "Finished Training\n"
          ]
        },
        {
          "output_type": "stream",
          "name": "stderr",
          "text": [
            "\r 90%|█████████ | 18/20 [02:27<00:16,  8.12s/it]"
          ]
        },
        {
          "output_type": "stream",
          "name": "stdout",
          "text": [
            "Finished Training\n"
          ]
        },
        {
          "output_type": "stream",
          "name": "stderr",
          "text": [
            "\r 95%|█████████▌| 19/20 [02:35<00:08,  8.11s/it]"
          ]
        },
        {
          "output_type": "stream",
          "name": "stdout",
          "text": [
            "Finished Training\n"
          ]
        },
        {
          "output_type": "stream",
          "name": "stderr",
          "text": [
            "100%|██████████| 20/20 [02:43<00:00,  8.17s/it]\n"
          ]
        }
      ]
    },
    {
      "cell_type": "code",
      "source": [
        "acc_conv = np.array(acc_conv)\n",
        "acc_sparseconv = np.array(acc_sparseconv)\n",
        "\n",
        "print(acc_conv)\n",
        "print(acc_sparseconv)\n",
        "print(acc_sparseconv - acc_conv)"
      ],
      "metadata": {
        "colab": {
          "base_uri": "https://localhost:8080/"
        },
        "id": "C52Ni508d-J1",
        "outputId": "69cc28af-a2d0-42f4-99af-567bce8f9b1d"
      },
      "execution_count": 10,
      "outputs": [
        {
          "output_type": "stream",
          "name": "stdout",
          "text": [
            "[0.9769 0.974  0.9663 0.968  0.9705 0.9691 0.9646 0.9611 0.9562 0.9559\n",
            " 0.9455 0.9462 0.942  0.9325 0.9204 0.9105 0.8819 0.8324 0.7501 0.551 ]\n",
            "[0.9763 0.97   0.9702 0.9682 0.9668 0.9653 0.9617 0.9585 0.9548 0.9505\n",
            " 0.9414 0.9359 0.928  0.9209 0.9093 0.8871 0.8478 0.7796 0.6088 0.1876]\n",
            "[-6.000e-04 -4.000e-03  3.900e-03  2.000e-04 -3.700e-03 -3.800e-03\n",
            " -2.900e-03 -2.600e-03 -1.400e-03 -5.400e-03 -4.100e-03 -1.030e-02\n",
            " -1.400e-02 -1.160e-02 -1.110e-02 -2.340e-02 -3.410e-02 -5.280e-02\n",
            " -1.413e-01 -3.634e-01]\n"
          ]
        }
      ]
    },
    {
      "cell_type": "code",
      "source": [
        "plt.plot(prob_list, acc_conv, label='ConvNet')\n",
        "plt.plot(prob_list, acc_sparseconv, label='SparseConvNet')\n",
        "plt.xlabel(\"Sparsity\")\n",
        "plt.ylabel(\"Acc\")\n",
        "plt.grid()\n",
        "plt.legend()"
      ],
      "metadata": {
        "id": "e5uq-Sb_cRkR",
        "colab": {
          "base_uri": "https://localhost:8080/",
          "height": 467
        },
        "outputId": "3a481071-26b4-4260-a961-a4cc9a37ac8a"
      },
      "execution_count": 11,
      "outputs": [
        {
          "output_type": "execute_result",
          "data": {
            "text/plain": [
              "<matplotlib.legend.Legend at 0x7a77d6a102e0>"
            ]
          },
          "metadata": {},
          "execution_count": 11
        },
        {
          "output_type": "display_data",
          "data": {
            "text/plain": [
              "<Figure size 640x480 with 1 Axes>"
            ],
            "image/png": "[encoded data removed]"
          },
          "metadata": {}
        }
      ]
    }
  ]
}