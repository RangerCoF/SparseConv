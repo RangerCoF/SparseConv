{
  "nbformat": 4,
  "nbformat_minor": 0,
  "metadata": {
    "colab": {
      "provenance": [],
      "authorship_tag": "ABX9TyOF0vM2ZY/mynQo118mMy/8",
      "include_colab_link": true
    },
    "kernelspec": {
      "name": "python3",
      "display_name": "Python 3"
    },
    "language_info": {
      "name": "python"
    }
  },
  "cells": [
    {
      "cell_type": "markdown",
      "metadata": {
        "id": "view-in-github",
        "colab_type": "text"
      },
      "source": [
        "<a href=\"https://colab.research.google.com/github/RangerCoF/SparseConv/blob/main/MNIST/SparseConv.ipynb\" target=\"_parent\"><img src=\"https://colab.research.google.com/assets/colab-badge.svg\" alt=\"Open In Colab\"/></a>"
      ]
    },
    {
      "cell_type": "code",
      "execution_count": null,
      "metadata": {
        "id": "1a9gHz1GXp-q"
      },
      "outputs": [],
      "source": [
        "import matplotlib.pyplot as plt\n",
        "import numpy as np\n",
        "\n",
        "import torch\n",
        "import torch.nn as nn\n",
        "import torch.nn.functional as F\n",
        "from torch.utils.data import Dataset,DataLoader\n",
        "import torch.optim as optim\n",
        "import torchvision\n",
        "import torchvision.transforms as transforms\n",
        "\n",
        "from tqdm import tqdm"
      ]
    },
    {
      "cell_type": "code",
      "source": [
        "if torch.cuda.is_available():\n",
        "    device = torch.device(\"cuda\")\n",
        "    print(\"device=cuda\")\n",
        "else:\n",
        "    device = torch.device(\"cpu\")\n",
        "    print(\"device=cpu\")"
      ],
      "metadata": {
        "colab": {
          "base_uri": "https://localhost:8080/"
        },
        "id": "VXR0MzvuXuk-",
        "outputId": "8a45caa8-7563-4a0e-a4ca-e8f0ac3eee71"
      },
      "execution_count": null,
      "outputs": [
        {
          "output_type": "stream",
          "name": "stdout",
          "text": [
            "device=cpu\n"
          ]
        }
      ]
    },
    {
      "cell_type": "code",
      "source": [
        "transform = transforms.Compose([\n",
        "    transforms.ToTensor(),\n",
        "#    transforms.Normalize((0.5,), (0.5,))\n",
        "])"
      ],
      "metadata": {
        "id": "5mexl-HAXwAb"
      },
      "execution_count": null,
      "outputs": []
    },
    {
      "cell_type": "code",
      "source": [
        "class ConvNetDataset(Dataset):\n",
        "  def __init__(self, data, targets, device):\n",
        "    self.data = data.to(device)\n",
        "    self.targets = targets.to(device)\n",
        "\n",
        "  def __len__(self):\n",
        "    return len(self.data)\n",
        "\n",
        "  def __getitem__(self, idx):\n",
        "    data = self.data[idx]\n",
        "    targets = self.targets[idx]\n",
        "    return data, targets"
      ],
      "metadata": {
        "id": "yg48tKyVX1is"
      },
      "execution_count": null,
      "outputs": []
    },
    {
      "cell_type": "code",
      "source": [
        "trainset = torchvision.datasets.MNIST(root='./data', train=True, download=True, transform=transform)\n",
        "traindata = []\n",
        "traintargets = []\n",
        "for sample in trainset:\n",
        "  traindata.append(sample[0])\n",
        "  traintargets.append(sample[1])\n",
        "\n",
        "traindata = torch.stack(traindata, dim=0)\n",
        "traintargets = torch.tensor(traintargets)\n",
        "\n",
        "testset = torchvision.datasets.MNIST(root='./data', train=False, download=True, transform=transform)\n",
        "testdata = []\n",
        "testtargets = []\n",
        "for sample in testset:\n",
        "  testdata.append(sample[0])\n",
        "  testtargets.append(sample[1])\n",
        "\n",
        "testdata = torch.stack(testdata, dim=0)\n",
        "testtargets = torch.tensor(testtargets)"
      ],
      "metadata": {
        "colab": {
          "base_uri": "https://localhost:8080/"
        },
        "id": "I01dW1xMX34g",
        "outputId": "c27edc0e-14f3-45bf-8985-db95c47ff45f"
      },
      "execution_count": null,
      "outputs": [
        {
          "output_type": "stream",
          "name": "stdout",
          "text": [
            "Downloading http://yann.lecun.com/exdb/mnist/train-images-idx3-ubyte.gz\n",
            "Downloading http://yann.lecun.com/exdb/mnist/train-images-idx3-ubyte.gz to ./data/MNIST/raw/train-images-idx3-ubyte.gz\n"
          ]
        },
        {
          "output_type": "stream",
          "name": "stderr",
          "text": [
            "100%|██████████| 9912422/9912422 [00:00<00:00, 80432794.05it/s]\n"
          ]
        },
        {
          "output_type": "stream",
          "name": "stdout",
          "text": [
            "Extracting ./data/MNIST/raw/train-images-idx3-ubyte.gz to ./data/MNIST/raw\n",
            "\n",
            "Downloading http://yann.lecun.com/exdb/mnist/train-labels-idx1-ubyte.gz\n",
            "Downloading http://yann.lecun.com/exdb/mnist/train-labels-idx1-ubyte.gz to ./data/MNIST/raw/train-labels-idx1-ubyte.gz\n"
          ]
        },
        {
          "output_type": "stream",
          "name": "stderr",
          "text": [
            "100%|██████████| 28881/28881 [00:00<00:00, 34639889.57it/s]"
          ]
        },
        {
          "output_type": "stream",
          "name": "stdout",
          "text": [
            "Extracting ./data/MNIST/raw/train-labels-idx1-ubyte.gz to ./data/MNIST/raw\n",
            "\n",
            "Downloading http://yann.lecun.com/exdb/mnist/t10k-images-idx3-ubyte.gz\n",
            "Downloading http://yann.lecun.com/exdb/mnist/t10k-images-idx3-ubyte.gz to ./data/MNIST/raw/t10k-images-idx3-ubyte.gz\n"
          ]
        },
        {
          "output_type": "stream",
          "name": "stderr",
          "text": [
            "\n",
            "100%|██████████| 1648877/1648877 [00:00<00:00, 23325176.13it/s]\n"
          ]
        },
        {
          "output_type": "stream",
          "name": "stdout",
          "text": [
            "Extracting ./data/MNIST/raw/t10k-images-idx3-ubyte.gz to ./data/MNIST/raw\n",
            "\n",
            "Downloading http://yann.lecun.com/exdb/mnist/t10k-labels-idx1-ubyte.gz\n",
            "Downloading http://yann.lecun.com/exdb/mnist/t10k-labels-idx1-ubyte.gz to ./data/MNIST/raw/t10k-labels-idx1-ubyte.gz\n"
          ]
        },
        {
          "output_type": "stream",
          "name": "stderr",
          "text": [
            "100%|██████████| 4542/4542 [00:00<00:00, 14586928.61it/s]\n"
          ]
        },
        {
          "output_type": "stream",
          "name": "stdout",
          "text": [
            "Extracting ./data/MNIST/raw/t10k-labels-idx1-ubyte.gz to ./data/MNIST/raw\n",
            "\n"
          ]
        }
      ]
    },
    {
      "cell_type": "code",
      "source": [
        "prob = 0.5\n",
        "\n",
        "trainmask = torch.bernoulli(torch.full(traindata.shape, 1 - prob))\n",
        "trainset_input = torch.cat((traindata * trainmask, trainmask), dim=1)\n",
        "trainset = ConvNetDataset(trainset_input, traintargets, device)\n",
        "\n",
        "testmask = torch.bernoulli(torch.full(testdata.shape, 1 - prob))\n",
        "testset_input = torch.cat((testdata * testmask, testmask), dim=1)\n",
        "testset = ConvNetDataset(testset_input, testtargets, device)"
      ],
      "metadata": {
        "id": "TMDjBTdYX-yK"
      },
      "execution_count": null,
      "outputs": []
    },
    {
      "cell_type": "code",
      "source": [
        "plt.imshow(trainset[0][0].cpu().squeeze()[0, :, :])\n",
        "plt.show()\n",
        "plt.imshow(testset[0][0].cpu().squeeze()[0, :, :])\n",
        "plt.show()"
      ],
      "metadata": {
        "colab": {
          "base_uri": "https://localhost:8080/",
          "height": 843
        },
        "id": "eYcU7jhvYEq9",
        "outputId": "c8e54d0c-a509-4d0a-bcff-553fe64b2826"
      },
      "execution_count": null,
      "outputs": [
        {
          "output_type": "display_data",
          "data": {
            "text/plain": [
              "<Figure size 640x480 with 1 Axes>"
            ],
            "image/png": "[encoded data removed]"
          },
          "metadata": {}
        },
        {
          "output_type": "display_data",
          "data": {
            "text/plain": [
              "<Figure size 640x480 with 1 Axes>"
            ],
            "image/png": "[encoded data removed]"
          },
          "metadata": {}
        }
      ]
    },
    {
      "cell_type": "code",
      "source": [
        "trainloader = torch.utils.data.DataLoader(trainset, batch_size=4, shuffle=True, num_workers=0, pin_memory=False)\n",
        "testloader = torch.utils.data.DataLoader(testset, batch_size=4, shuffle=False, num_workers=0, pin_memory=False)"
      ],
      "metadata": {
        "id": "EXXtQFc2YF_q"
      },
      "execution_count": null,
      "outputs": []
    },
    {
      "cell_type": "code",
      "source": [
        "class SparseConvBlock(nn.Module):\n",
        "  def __init__(\n",
        "      self,\n",
        "      in_channels,\n",
        "      out_channels,\n",
        "      kernel_size,\n",
        "      stride=1,\n",
        "      padding='same',\n",
        "      dilation=1):\n",
        "    super(SparseConvBlock, self).__init__()\n",
        "\n",
        "    self.conv = nn.Conv2d(\n",
        "      in_channels=in_channels,\n",
        "      out_channels=out_channels,\n",
        "      kernel_size=kernel_size,\n",
        "      stride=stride,\n",
        "      padding=padding,\n",
        "      dilation=dilation,\n",
        "      bias=False)\n",
        "\n",
        "    self.bias = nn.Parameter(\n",
        "      torch.zeros(out_channels),\n",
        "      requires_grad=True)\n",
        "\n",
        "    self.sparsity = nn.Conv2d(\n",
        "      in_channels=1,\n",
        "      out_channels=1,\n",
        "      kernel_size=kernel_size,\n",
        "      padding=padding,\n",
        "      dilation=dilation,\n",
        "      bias=False)\n",
        "    kernel = torch.FloatTensor(torch.ones([kernel_size, kernel_size])).unsqueeze(0).unsqueeze(0)\n",
        "    self.sparsity.weight = nn.Parameter(\n",
        "      data=kernel,\n",
        "      requires_grad=False)\n",
        "\n",
        "    self.relu = nn.ReLU(inplace=True)\n",
        "    self.pool = nn.MaxPool2d(2, 2)\n",
        "    self.norm = nn.BatchNorm2d(out_channels)\n",
        "\n",
        "  def forward(self, x, mask):\n",
        "    x = self.conv(x * mask)\n",
        "    normalizer = self.sparsity(mask) + 1e-8\n",
        "    x = x / normalizer + self.bias.unsqueeze(0).unsqueeze(2).unsqueeze(3)\n",
        "    x = self.relu(x)\n",
        "    x = self.pool(x)\n",
        "    x = self.norm(x)\n",
        "    mask = self.pool(mask)\n",
        "    return x, mask\n"
      ],
      "metadata": {
        "id": "JHlAP8eUYSyj"
      },
      "execution_count": null,
      "outputs": []
    },
    {
      "cell_type": "code",
      "source": [
        "class SparseConvNet(nn.Module):\n",
        "    def __init__(self):\n",
        "      super(SparseConvNet, self).__init__()\n",
        "      self.conv1 = SparseConvBlock(1, 6, 5, padding='same')\n",
        "      self.conv2 = SparseConvBlock(6, 16, 5, padding='same')\n",
        "\n",
        "\n",
        "      self.fc1 = nn.Linear(16 * 7 * 7, 120)\n",
        "      self.fc2 = nn.Linear(120, 84)\n",
        "      self.fc3 = nn.Linear(84, 10)\n",
        "\n",
        "    def forward(self, x):\n",
        "      mask = x[:, -1:, :, :]\n",
        "      x = x[:, :-1, :, :]\n",
        "\n",
        "      x, mask = self.conv1(x, mask)\n",
        "\n",
        "      x, mask = self.conv2(x, mask)\n",
        "      # print(x.shape)\n",
        "      # print(mask.shape)\n",
        "\n",
        "      x = x.view(-1, 16 * 7 * 7)\n",
        "      x = torch.relu(self.fc1(x))\n",
        "      x = torch.relu(self.fc2(x))\n",
        "      x = self.fc3(x)\n",
        "      return x"
      ],
      "metadata": {
        "id": "-XndRfRNYrrI"
      },
      "execution_count": null,
      "outputs": []
    },
    {
      "cell_type": "code",
      "source": [
        "net = SparseConvNet().to(device)\n",
        "print(net)"
      ],
      "metadata": {
        "colab": {
          "base_uri": "https://localhost:8080/"
        },
        "id": "k2e5NXw5ZGGJ",
        "outputId": "c9af62ba-8b82-460c-da1d-66d88c836ecb"
      },
      "execution_count": null,
      "outputs": [
        {
          "output_type": "stream",
          "name": "stdout",
          "text": [
            "SparseConvNet(\n",
            "  (conv1): SparseConvBlock(\n",
            "    (conv): Conv2d(1, 6, kernel_size=(5, 5), stride=(1, 1), padding=same, bias=False)\n",
            "    (sparsity): Conv2d(1, 1, kernel_size=(5, 5), stride=(1, 1), padding=same, bias=False)\n",
            "    (relu): ReLU(inplace=True)\n",
            "    (pool): MaxPool2d(kernel_size=2, stride=2, padding=0, dilation=1, ceil_mode=False)\n",
            "    (norm): BatchNorm2d(6, eps=1e-05, momentum=0.1, affine=True, track_running_stats=True)\n",
            "  )\n",
            "  (conv2): SparseConvBlock(\n",
            "    (conv): Conv2d(6, 16, kernel_size=(5, 5), stride=(1, 1), padding=same, bias=False)\n",
            "    (sparsity): Conv2d(1, 1, kernel_size=(5, 5), stride=(1, 1), padding=same, bias=False)\n",
            "    (relu): ReLU(inplace=True)\n",
            "    (pool): MaxPool2d(kernel_size=2, stride=2, padding=0, dilation=1, ceil_mode=False)\n",
            "    (norm): BatchNorm2d(16, eps=1e-05, momentum=0.1, affine=True, track_running_stats=True)\n",
            "  )\n",
            "  (fc1): Linear(in_features=784, out_features=120, bias=True)\n",
            "  (fc2): Linear(in_features=120, out_features=84, bias=True)\n",
            "  (fc3): Linear(in_features=84, out_features=10, bias=True)\n",
            ")\n"
          ]
        }
      ]
    },
    {
      "cell_type": "code",
      "source": [
        "criterion = nn.CrossEntropyLoss()\n",
        "optimizer = optim.SGD(net.parameters(), lr=0.001, momentum=0.9)"
      ],
      "metadata": {
        "id": "s3q_4mVfZy-k"
      },
      "execution_count": null,
      "outputs": []
    },
    {
      "cell_type": "code",
      "source": [
        "for epoch in tqdm(range(2)):\n",
        "    running_loss = 0.0\n",
        "    for i, data in enumerate(trainloader, 0):\n",
        "\n",
        "      inputs, labels = data\n",
        "      optimizer.zero_grad()\n",
        "\n",
        "      outputs = net(inputs)\n",
        "      loss = criterion(outputs, labels)\n",
        "      loss.backward()\n",
        "      optimizer.step()\n",
        "\n",
        "      running_loss += loss.item()\n",
        "      if i % 2000 == 1999:\n",
        "          print('[%d, %5d] loss: %.3f' %\n",
        "                (epoch + 1, i + 1, running_loss / 2000))\n",
        "          running_loss = 0.0\n",
        "\n",
        "print('Finished Training')"
      ],
      "metadata": {
        "colab": {
          "base_uri": "https://localhost:8080/"
        },
        "id": "ikOeY9PnZ1CS",
        "outputId": "ad8ae098-3a37-489e-d3f6-64dc0b5549a4"
      },
      "execution_count": null,
      "outputs": [
        {
          "output_type": "stream",
          "name": "stderr",
          "text": [
            "\r  0%|          | 0/2 [00:00<?, ?it/s]"
          ]
        },
        {
          "output_type": "stream",
          "name": "stdout",
          "text": [
            "[1,  2000] loss: 0.666\n",
            "[1,  4000] loss: 0.280\n",
            "[1,  6000] loss: 0.210\n",
            "[1,  8000] loss: 0.177\n",
            "[1, 10000] loss: 0.160\n",
            "[1, 12000] loss: 0.151\n",
            "[1, 14000] loss: 0.136\n"
          ]
        },
        {
          "output_type": "stream",
          "name": "stderr",
          "text": [
            "\r 50%|█████     | 1/2 [01:00<01:00, 60.60s/it]"
          ]
        },
        {
          "output_type": "stream",
          "name": "stdout",
          "text": [
            "[2,  2000] loss: 0.109\n",
            "[2,  4000] loss: 0.102\n",
            "[2,  6000] loss: 0.109\n",
            "[2,  8000] loss: 0.105\n",
            "[2, 10000] loss: 0.105\n",
            "[2, 12000] loss: 0.103\n",
            "[2, 14000] loss: 0.105\n"
          ]
        },
        {
          "output_type": "stream",
          "name": "stderr",
          "text": [
            "100%|██████████| 2/2 [01:57<00:00, 58.99s/it]"
          ]
        },
        {
          "output_type": "stream",
          "name": "stdout",
          "text": [
            "Finished Training\n"
          ]
        },
        {
          "output_type": "stream",
          "name": "stderr",
          "text": [
            "\n"
          ]
        }
      ]
    },
    {
      "cell_type": "code",
      "source": [
        "correct = 0\n",
        "total = 0\n",
        "with torch.no_grad():\n",
        "    for data in testloader:\n",
        "        images, labels = data\n",
        "        outputs = net(images)\n",
        "        _, predicted = torch.max(outputs.data, 1)\n",
        "        total += labels.size(0)\n",
        "        correct += (predicted == labels).sum().item()\n",
        "\n",
        "print('Accuracy of the network on the 10000 test images: %d %%' % (\n",
        "    100 * correct / total))"
      ],
      "metadata": {
        "colab": {
          "base_uri": "https://localhost:8080/"
        },
        "id": "svsjkwQ2Z3KN",
        "outputId": "3daa9b1c-57f8-4f60-dc24-5672e9d72e60"
      },
      "execution_count": null,
      "outputs": [
        {
          "output_type": "stream",
          "name": "stdout",
          "text": [
            "Accuracy of the network on the 10000 test images: 97 %\n"
          ]
        }
      ]
    },
    {
      "cell_type": "code",
      "source": [],
      "metadata": {
        "id": "UID_XUUlZ5s4"
      },
      "execution_count": null,
      "outputs": []
    }
  ]
}