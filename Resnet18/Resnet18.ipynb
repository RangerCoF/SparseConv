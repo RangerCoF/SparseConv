{
 "cells": [
  {
   "cell_type": "code",
   "execution_count": 1,
   "id": "eb38ae86",
   "metadata": {
    "_cell_guid": "b1076dfc-b9ad-4769-8c92-a6c4dae69d19",
    "_uuid": "8f2839f25d086af736a60e9eeb907d3b93b6e0e5",
    "execution": {
     "iopub.execute_input": "2024-03-30T21:43:09.283527Z",
     "iopub.status.busy": "2024-03-30T21:43:09.283159Z",
     "iopub.status.idle": "2024-03-30T21:43:09.365111Z",
     "shell.execute_reply": "2024-03-30T21:43:09.364308Z"
    },
    "papermill": {
     "duration": 0.093215,
     "end_time": "2024-03-30T21:43:09.367815",
     "exception": false,
     "start_time": "2024-03-30T21:43:09.274600",
     "status": "completed"
    },
    "tags": []
   },
   "outputs": [],
   "source": [
    "import zipfile\n",
    "import tarfile\n",
    "import gzip\n",
    "import requests\n",
    "import os"
   ]
  },
  {
   "cell_type": "code",
   "execution_count": 2,
   "id": "5369f782",
   "metadata": {
    "execution": {
     "iopub.execute_input": "2024-03-30T21:43:09.382005Z",
     "iopub.status.busy": "2024-03-30T21:43:09.381723Z",
     "iopub.status.idle": "2024-03-30T21:43:09.391650Z",
     "shell.execute_reply": "2024-03-30T21:43:09.390850Z"
    },
    "papermill": {
     "duration": 0.018938,
     "end_time": "2024-03-30T21:43:09.393595",
     "exception": false,
     "start_time": "2024-03-30T21:43:09.374657",
     "status": "completed"
    },
    "tags": []
   },
   "outputs": [],
   "source": [
    "def download_file(url, save_path):\n",
    "    # Send a request\n",
    "    response = requests.get(url, stream=True)\n",
    "    # Check the response status code\n",
    "    if response.status_code == 200:\n",
    "        # Open the file in binary write mode\n",
    "        with open(save_path, 'wb') as f:\n",
    "            # Write the file chunk by chunk\n",
    "            for chunk in response.iter_content(chunk_size=128):\n",
    "                f.write(chunk)\n",
    "        print(\"File downloaded successfully\")\n",
    "    else:\n",
    "        print(\"Download failed. Status code:\", response.status_code)\n",
    "\n",
    "def extract_tar(file_path, extract_path):\n",
    "    # Check if the file exists\n",
    "    if not os.path.exists(file_path):\n",
    "        print(f\"File '{file_path}' does not exist\")\n",
    "        return\n",
    "\n",
    "    # Extract .tar file\n",
    "    with tarfile.open(file_path, 'r') as tar:\n",
    "        tar.extractall(path=extract_path)\n",
    "    print(f\"Extracted '{file_path}' to '{extract_path}'\")\n",
    "\n",
    "def extract_tar_gz(file_path, extract_path):\n",
    "    # Check if the file exists\n",
    "    if not os.path.exists(file_path):\n",
    "        print(f\"File '{file_path}' does not exist\")\n",
    "        return\n",
    "\n",
    "    # Extract .tar.gz file\n",
    "    with gzip.open(file_path, 'rb') as gz:\n",
    "        with tarfile.open(fileobj=gz, mode='r') as tar:\n",
    "            tar.extractall(path=extract_path)\n",
    "    print(f\"Extracted '{file_path}' to '{extract_path}'\")"
   ]
  },
  {
   "cell_type": "code",
   "execution_count": 3,
   "id": "c97593fd",
   "metadata": {
    "execution": {
     "iopub.execute_input": "2024-03-30T21:43:09.407622Z",
     "iopub.status.busy": "2024-03-30T21:43:09.407342Z",
     "iopub.status.idle": "2024-03-30T21:43:25.968286Z",
     "shell.execute_reply": "2024-03-30T21:43:25.967370Z"
    },
    "papermill": {
     "duration": 16.570573,
     "end_time": "2024-03-30T21:43:25.970750",
     "exception": false,
     "start_time": "2024-03-30T21:43:09.400177",
     "status": "completed"
    },
    "tags": []
   },
   "outputs": [
    {
     "name": "stdout",
     "output_type": "stream",
     "text": [
      "File downloaded successfully\n"
     ]
    }
   ],
   "source": [
    "caltech101_url = 'https://data.caltech.edu/records/mzrjq-6wc02/files/caltech-101.zip?download=1'\n",
    "download_path = '/content/downloads'\n",
    "caltech101_path = download_path + '/caltech-101.zip'\n",
    "\n",
    "if not os.path.exists(download_path):\n",
    "  os.makedirs(download_path)\n",
    "\n",
    "download_file(caltech101_url, caltech101_path)"
   ]
  },
  {
   "cell_type": "code",
   "execution_count": 4,
   "id": "30930800",
   "metadata": {
    "execution": {
     "iopub.execute_input": "2024-03-30T21:43:25.985531Z",
     "iopub.status.busy": "2024-03-30T21:43:25.984962Z",
     "iopub.status.idle": "2024-03-30T21:43:26.336078Z",
     "shell.execute_reply": "2024-03-30T21:43:26.335353Z"
    },
    "papermill": {
     "duration": 0.360981,
     "end_time": "2024-03-30T21:43:26.338432",
     "exception": false,
     "start_time": "2024-03-30T21:43:25.977451",
     "status": "completed"
    },
    "tags": []
   },
   "outputs": [],
   "source": [
    "extract_path = download_path + '/extract'\n",
    "if not os.path.exists(extract_path):\n",
    "  os.makedirs(extract_path)\n",
    "with zipfile.ZipFile(caltech101_path, 'r') as zip_ref:\n",
    "  zip_ref.extractall(extract_path)"
   ]
  },
  {
   "cell_type": "code",
   "execution_count": 5,
   "id": "9992ebad",
   "metadata": {
    "execution": {
     "iopub.execute_input": "2024-03-30T21:43:26.352918Z",
     "iopub.status.busy": "2024-03-30T21:43:26.352054Z",
     "iopub.status.idle": "2024-03-30T21:43:29.619292Z",
     "shell.execute_reply": "2024-03-30T21:43:29.618400Z"
    },
    "papermill": {
     "duration": 3.276899,
     "end_time": "2024-03-30T21:43:29.621737",
     "exception": false,
     "start_time": "2024-03-30T21:43:26.344838",
     "status": "completed"
    },
    "tags": []
   },
   "outputs": [
    {
     "name": "stdout",
     "output_type": "stream",
     "text": [
      "Extracted '/content/downloads/extract/caltech-101/101_ObjectCategories.tar.gz' to '/content/data'\n"
     ]
    }
   ],
   "source": [
    "dataset_path = '/content/data'\n",
    "if not os.path.exists(dataset_path):\n",
    "  os.makedirs(dataset_path)\n",
    "\n",
    "#label_path = dataset_path + '/label'\n",
    "#image_path = dataset_path + '/image'\n",
    "\n",
    "#extract_tar(extract_path + '/caltech-101/Annotations.tar', label_path)\n",
    "#extract_tar_gz(extract_path + '/caltech-101/101_ObjectCategories.tar.gz', image_path)\n",
    "extract_tar_gz(extract_path + '/caltech-101/101_ObjectCategories.tar.gz', dataset_path)"
   ]
  },
  {
   "cell_type": "code",
   "execution_count": 6,
   "id": "379029c6",
   "metadata": {
    "execution": {
     "iopub.execute_input": "2024-03-30T21:43:29.636234Z",
     "iopub.status.busy": "2024-03-30T21:43:29.635532Z",
     "iopub.status.idle": "2024-03-30T21:43:29.640707Z",
     "shell.execute_reply": "2024-03-30T21:43:29.639964Z"
    },
    "papermill": {
     "duration": 0.014436,
     "end_time": "2024-03-30T21:43:29.642696",
     "exception": false,
     "start_time": "2024-03-30T21:43:29.628260",
     "status": "completed"
    },
    "tags": []
   },
   "outputs": [],
   "source": [
    "image_path = dataset_path + '/101_ObjectCategories'\n",
    "\n",
    "label_list = os.listdir(image_path)\n",
    "label_list = [item for item in label_list if item!='BACKGROUND_Google']\n",
    "label_path = [image_path + '/' + item for item in label_list]"
   ]
  },
  {
   "cell_type": "code",
   "execution_count": 7,
   "id": "fd2acdfe",
   "metadata": {
    "execution": {
     "iopub.execute_input": "2024-03-30T21:43:29.656795Z",
     "iopub.status.busy": "2024-03-30T21:43:29.656528Z",
     "iopub.status.idle": "2024-03-30T21:43:37.372195Z",
     "shell.execute_reply": "2024-03-30T21:43:37.371166Z"
    },
    "papermill": {
     "duration": 7.725607,
     "end_time": "2024-03-30T21:43:37.374708",
     "exception": false,
     "start_time": "2024-03-30T21:43:29.649101",
     "status": "completed"
    },
    "tags": []
   },
   "outputs": [],
   "source": [
    "import matplotlib.pyplot as plt\n",
    "import numpy as np\n",
    "from tqdm import tqdm\n",
    "\n",
    "import torch\n",
    "import torch.nn as nn\n",
    "import torch.nn.functional as F\n",
    "from torch.utils.data import Dataset,DataLoader\n",
    "import torch.optim as optim\n",
    "import torchvision\n",
    "import torchvision.models as models\n",
    "import torchvision.transforms as transforms\n",
    "from sklearn.model_selection import train_test_split\n",
    "from PIL import Image"
   ]
  },
  {
   "cell_type": "code",
   "execution_count": 8,
   "id": "4729bb2f",
   "metadata": {
    "execution": {
     "iopub.execute_input": "2024-03-30T21:43:37.388995Z",
     "iopub.status.busy": "2024-03-30T21:43:37.388353Z",
     "iopub.status.idle": "2024-03-30T21:43:37.442282Z",
     "shell.execute_reply": "2024-03-30T21:43:37.441296Z"
    },
    "papermill": {
     "duration": 0.063417,
     "end_time": "2024-03-30T21:43:37.444505",
     "exception": false,
     "start_time": "2024-03-30T21:43:37.381088",
     "status": "completed"
    },
    "tags": []
   },
   "outputs": [
    {
     "name": "stdout",
     "output_type": "stream",
     "text": [
      "device=cuda\n"
     ]
    }
   ],
   "source": [
    "if torch.cuda.is_available():\n",
    "    device = torch.device(\"cuda\")\n",
    "    print(\"device=cuda\")\n",
    "else:\n",
    "    device = torch.device(\"cpu\")\n",
    "    print(\"device=cpu\")"
   ]
  },
  {
   "cell_type": "code",
   "execution_count": 9,
   "id": "48e12677",
   "metadata": {
    "execution": {
     "iopub.execute_input": "2024-03-30T21:43:37.459490Z",
     "iopub.status.busy": "2024-03-30T21:43:37.459204Z",
     "iopub.status.idle": "2024-03-30T21:43:37.464142Z",
     "shell.execute_reply": "2024-03-30T21:43:37.463463Z"
    },
    "papermill": {
     "duration": 0.015359,
     "end_time": "2024-03-30T21:43:37.466005",
     "exception": false,
     "start_time": "2024-03-30T21:43:37.450646",
     "status": "completed"
    },
    "tags": []
   },
   "outputs": [],
   "source": [
    "transform = transforms.Compose(\n",
    "    [transforms.Resize((224, 224)),\n",
    "    transforms.ToTensor(),\n",
    "    transforms.Normalize(mean=[0.485, 0.456, 0.406],\n",
    "                        std=[0.229, 0.224, 0.225])]\n",
    "    )"
   ]
  },
  {
   "cell_type": "code",
   "execution_count": 10,
   "id": "2427e87c",
   "metadata": {
    "collapsed": true,
    "execution": {
     "iopub.execute_input": "2024-03-30T21:43:37.479130Z",
     "iopub.status.busy": "2024-03-30T21:43:37.478845Z",
     "iopub.status.idle": "2024-03-30T21:44:00.803037Z",
     "shell.execute_reply": "2024-03-30T21:44:00.800683Z"
    },
    "jupyter": {
     "outputs_hidden": true
    },
    "papermill": {
     "duration": 23.336585,
     "end_time": "2024-03-30T21:44:00.808592",
     "exception": false,
     "start_time": "2024-03-30T21:43:37.472007",
     "status": "completed"
    },
    "tags": []
   },
   "outputs": [],
   "source": [
    "images = []\n",
    "labels = []\n",
    "\n",
    "for i in range(len(label_path)):\n",
    "  folder_path = label_path[i]\n",
    "#for folder_path in label_path:\n",
    "  for filename in os.listdir(folder_path):\n",
    "    file_path = os.path.join(folder_path, filename)\n",
    "    #print(file_path)\n",
    "    if filename.endswith('.jpg') or filename.endswith('.jpeg'):\n",
    "      img = Image.open(file_path)\n",
    "      if img.mode != 'RGB':\n",
    "        img = img.convert('RGB')\n",
    "      img_transformed = transform(img)\n",
    "      images.append(img_transformed)\n",
    "      labels.append(i)\n",
    "    \n",
    "labels = torch.tensor(labels)\n",
    "train_data, test_data, train_targets, test_targets = train_test_split(images, labels, test_size=0.2, random_state=42)"
   ]
  },
  {
   "cell_type": "code",
   "execution_count": 11,
   "id": "c1d9464c",
   "metadata": {
    "execution": {
     "iopub.execute_input": "2024-03-30T21:44:00.844924Z",
     "iopub.status.busy": "2024-03-30T21:44:00.844196Z",
     "iopub.status.idle": "2024-03-30T21:44:00.857388Z",
     "shell.execute_reply": "2024-03-30T21:44:00.856294Z"
    },
    "papermill": {
     "duration": 0.033479,
     "end_time": "2024-03-30T21:44:00.860421",
     "exception": false,
     "start_time": "2024-03-30T21:44:00.826942",
     "status": "completed"
    },
    "tags": []
   },
   "outputs": [],
   "source": [
    "class ConvNetDataset(Dataset):\n",
    "  def __init__(self, data, targets, device, mask=1):\n",
    "    self.data = data\n",
    "    self.targets = targets\n",
    "    if type(mask) != int:\n",
    "        for i in range(len(self.data)):\n",
    "            self.data[i] = self.data[i] * mask[i]\n",
    "\n",
    "  def __len__(self):\n",
    "    return len(self.data)\n",
    "\n",
    "  def __getitem__(self, idx):\n",
    "    data = self.data[idx].to(device).to(device)\n",
    "    targets = self.targets[idx].to(device)\n",
    "    return data, targets"
   ]
  },
  {
   "cell_type": "code",
   "execution_count": 12,
   "id": "6eb59878",
   "metadata": {
    "execution": {
     "iopub.execute_input": "2024-03-30T21:44:00.884548Z",
     "iopub.status.busy": "2024-03-30T21:44:00.883651Z",
     "iopub.status.idle": "2024-03-30T21:44:00.892784Z",
     "shell.execute_reply": "2024-03-30T21:44:00.891725Z"
    },
    "papermill": {
     "duration": 0.023091,
     "end_time": "2024-03-30T21:44:00.895268",
     "exception": false,
     "start_time": "2024-03-30T21:44:00.872177",
     "status": "completed"
    },
    "tags": []
   },
   "outputs": [],
   "source": [
    "def model_test(model, testloader):\n",
    "    correct = 0\n",
    "    total = 0\n",
    "    model.eval()\n",
    "    with torch.no_grad():\n",
    "        for data in testloader:\n",
    "            images, labels = data\n",
    "            outputs = resnet18(images)\n",
    "            _, predicted = torch.max(outputs.data, 1)\n",
    "            total += labels.size(0)\n",
    "            correct += (predicted == labels).sum().item()\n",
    "    model.train()\n",
    "    return correct / total"
   ]
  },
  {
   "cell_type": "code",
   "execution_count": 13,
   "id": "f66453f3",
   "metadata": {
    "execution": {
     "iopub.execute_input": "2024-03-30T21:44:00.913917Z",
     "iopub.status.busy": "2024-03-30T21:44:00.912718Z",
     "iopub.status.idle": "2024-03-30T21:44:00.922185Z",
     "shell.execute_reply": "2024-03-30T21:44:00.921170Z"
    },
    "papermill": {
     "duration": 0.021556,
     "end_time": "2024-03-30T21:44:00.924719",
     "exception": false,
     "start_time": "2024-03-30T21:44:00.903163",
     "status": "completed"
    },
    "tags": []
   },
   "outputs": [],
   "source": [
    "# prob = 0\n",
    "# train_mask = torch.bernoulli(torch.full(torch.Size([len(train_data)]) + train_data[0].shape[1:], 1 - float(prob)))\n",
    "# test_mask = torch.bernoulli(torch.full(torch.Size([len(test_data)]) + test_data[0].shape[1:], 1 - float(prob)))\n",
    "\n",
    "batch_size = 64\n",
    "trainset = ConvNetDataset(train_data, train_targets, device)\n",
    "testset = ConvNetDataset(test_data, test_targets, device)\n",
    "trainloader = torch.utils.data.DataLoader(trainset, batch_size=batch_size, shuffle=True, num_workers=0, pin_memory=False)\n",
    "testloader = torch.utils.data.DataLoader(testset, batch_size=batch_size, shuffle=False, num_workers=0, pin_memory=False)"
   ]
  },
  {
   "cell_type": "code",
   "execution_count": 14,
   "id": "4f91ff65",
   "metadata": {
    "execution": {
     "iopub.execute_input": "2024-03-30T21:44:00.942712Z",
     "iopub.status.busy": "2024-03-30T21:44:00.942248Z",
     "iopub.status.idle": "2024-03-30T21:44:00.957333Z",
     "shell.execute_reply": "2024-03-30T21:44:00.956077Z"
    },
    "papermill": {
     "duration": 0.02687,
     "end_time": "2024-03-30T21:44:00.959569",
     "exception": false,
     "start_time": "2024-03-30T21:44:00.932699",
     "status": "completed"
    },
    "tags": []
   },
   "outputs": [],
   "source": [
    "class ResBlock(nn.Module):\n",
    "    def __init__(self, channels, kernel_size=3, double_channels=False):\n",
    "        super(ResBlock, self).__init__()\n",
    "        if double_channels:\n",
    "            self.conv1 = nn.Conv2d(channels // 2, channels, kernel_size=kernel_size, stride=2, padding=kernel_size // 2)\n",
    "            self.conv2 = nn.Conv2d(channels, channels, kernel_size=kernel_size, stride=1, padding='same')\n",
    "            self.res = nn.Conv2d(channels // 2, channels, kernel_size=1, stride=2, padding=0)\n",
    "        else:\n",
    "            self.conv1 = nn.Conv2d(channels, channels, kernel_size=kernel_size, stride=1, padding='same')\n",
    "            self.conv2 = nn.Conv2d(channels, channels, kernel_size=kernel_size, stride=1, padding='same')\n",
    "            self.res = nn.Identity()\n",
    "            \n",
    "        self.bn1 = nn.BatchNorm2d(channels)\n",
    "        self.bn2 = nn.BatchNorm2d(channels)\n",
    "        self.relu1 = nn.ReLU(inplace=True)\n",
    "        self.relu2 = nn.ReLU(inplace=True)\n",
    "        \n",
    "        self.layer = nn.Sequential(self.conv1, self.bn1, self.relu1, self.conv2, self.bn2)\n",
    "    \n",
    "    def forward(self, x):\n",
    "        res = self.res(x)\n",
    "        x = self.layer(x)\n",
    "        x = x + res\n",
    "        x = self.relu2(x)\n",
    "        return x"
   ]
  },
  {
   "cell_type": "code",
   "execution_count": 15,
   "id": "53b5fe70",
   "metadata": {
    "execution": {
     "iopub.execute_input": "2024-03-30T21:44:00.974573Z",
     "iopub.status.busy": "2024-03-30T21:44:00.974243Z",
     "iopub.status.idle": "2024-03-30T21:44:00.979358Z",
     "shell.execute_reply": "2024-03-30T21:44:00.978172Z"
    },
    "papermill": {
     "duration": 0.015353,
     "end_time": "2024-03-30T21:44:00.981697",
     "exception": false,
     "start_time": "2024-03-30T21:44:00.966344",
     "status": "completed"
    },
    "tags": []
   },
   "outputs": [],
   "source": [
    "net = nn.MaxPool2d(3, 2, 1)"
   ]
  },
  {
   "cell_type": "code",
   "execution_count": 16,
   "id": "25991001",
   "metadata": {
    "execution": {
     "iopub.execute_input": "2024-03-30T21:44:00.999779Z",
     "iopub.status.busy": "2024-03-30T21:44:00.999336Z",
     "iopub.status.idle": "2024-03-30T21:44:01.014491Z",
     "shell.execute_reply": "2024-03-30T21:44:01.013259Z"
    },
    "papermill": {
     "duration": 0.026745,
     "end_time": "2024-03-30T21:44:01.016976",
     "exception": false,
     "start_time": "2024-03-30T21:44:00.990231",
     "status": "completed"
    },
    "tags": []
   },
   "outputs": [],
   "source": [
    "class Resnet18(nn.Module):\n",
    "    def __init__(self):\n",
    "        super(Resnet18, self).__init__()\n",
    "        layers = []\n",
    "        layers.append(nn.Conv2d(3, 64, kernel_size=7, stride=2, padding=3))\n",
    "        layers.append(nn.BatchNorm2d(64))\n",
    "        layers.append(nn.ReLU(inplace=True))\n",
    "        layers.append(nn.MaxPool2d(3, 2, 1))\n",
    "        layers.append(ResBlock(64, 3))\n",
    "        layers.append(ResBlock(64, 3))\n",
    "        layers.append(ResBlock(128, 3, True))\n",
    "        layers.append(ResBlock(128, 3))\n",
    "        layers.append(ResBlock(256, 3, True))\n",
    "        layers.append(ResBlock(256, 3))\n",
    "        layers.append(ResBlock(512, 3, True))\n",
    "        layers.append(ResBlock(512, 3))\n",
    "        layers.append(nn.AdaptiveAvgPool2d(1))\n",
    "        layers.append(nn.Flatten())\n",
    "        layers.append(nn.Linear(512, 101))\n",
    "        self.layer = nn.Sequential(*layers)\n",
    "        \n",
    "    def forward(self, x):\n",
    "        x = self.layer(x)\n",
    "        return x"
   ]
  },
  {
   "cell_type": "code",
   "execution_count": 17,
   "id": "e6ff0281",
   "metadata": {
    "execution": {
     "iopub.execute_input": "2024-03-30T21:44:01.031412Z",
     "iopub.status.busy": "2024-03-30T21:44:01.031075Z",
     "iopub.status.idle": "2024-03-30T21:44:01.034968Z",
     "shell.execute_reply": "2024-03-30T21:44:01.034144Z"
    },
    "papermill": {
     "duration": 0.013373,
     "end_time": "2024-03-30T21:44:01.036986",
     "exception": false,
     "start_time": "2024-03-30T21:44:01.023613",
     "status": "completed"
    },
    "tags": []
   },
   "outputs": [],
   "source": [
    "# net = Resnet18()\n",
    "# x = torch.randn(16, 3, 224, 224)\n",
    "# y = net(x)\n",
    "# y.shape"
   ]
  },
  {
   "cell_type": "code",
   "execution_count": 18,
   "id": "9b206552",
   "metadata": {
    "execution": {
     "iopub.execute_input": "2024-03-30T21:44:01.050929Z",
     "iopub.status.busy": "2024-03-30T21:44:01.050596Z",
     "iopub.status.idle": "2024-03-30T21:44:01.357792Z",
     "shell.execute_reply": "2024-03-30T21:44:01.356969Z"
    },
    "papermill": {
     "duration": 0.316947,
     "end_time": "2024-03-30T21:44:01.360085",
     "exception": false,
     "start_time": "2024-03-30T21:44:01.043138",
     "status": "completed"
    },
    "tags": []
   },
   "outputs": [],
   "source": [
    "resnet18 = Resnet18().to(device)\n",
    "criterion = nn.CrossEntropyLoss()\n",
    "optimizer = optim.Adam(resnet18.parameters(), lr=0.001)"
   ]
  },
  {
   "cell_type": "code",
   "execution_count": 19,
   "id": "307940d4",
   "metadata": {
    "execution": {
     "iopub.execute_input": "2024-03-30T21:44:01.375058Z",
     "iopub.status.busy": "2024-03-30T21:44:01.374409Z",
     "iopub.status.idle": "2024-03-30T21:55:35.958939Z",
     "shell.execute_reply": "2024-03-30T21:55:35.958140Z"
    },
    "papermill": {
     "duration": 694.594432,
     "end_time": "2024-03-30T21:55:35.961292",
     "exception": false,
     "start_time": "2024-03-30T21:44:01.366860",
     "status": "completed"
    },
    "tags": []
   },
   "outputs": [
    {
     "name": "stderr",
     "output_type": "stream",
     "text": [
      "  0%|          | 0/50 [00:00<?, ?it/s]"
     ]
    },
    {
     "name": "stdout",
     "output_type": "stream",
     "text": [
      "[1,    20] loss: 4.26714\n",
      "[1,    40] loss: 3.67311\n",
      "[1,    60] loss: 3.58925\n",
      "[1,    80] loss: 3.43104\n",
      "[1,   100] loss: 3.35637\n"
     ]
    },
    {
     "name": "stderr",
     "output_type": "stream",
     "text": [
      "  2%|▏         | 1/50 [00:14<12:14, 14.99s/it]"
     ]
    },
    {
     "name": "stdout",
     "output_type": "stream",
     "text": [
      "acc: 0.236\n",
      "[2,    20] loss: 3.18232\n",
      "[2,    40] loss: 3.20638\n",
      "[2,    60] loss: 3.12531\n",
      "[2,    80] loss: 3.08241\n",
      "[2,   100] loss: 2.94116\n"
     ]
    },
    {
     "name": "stderr",
     "output_type": "stream",
     "text": [
      "  4%|▍         | 2/50 [00:28<11:26, 14.30s/it]"
     ]
    },
    {
     "name": "stdout",
     "output_type": "stream",
     "text": [
      "acc: 0.332\n",
      "[3,    20] loss: 2.79539\n",
      "[3,    40] loss: 2.77903\n",
      "[3,    60] loss: 2.67805\n",
      "[3,    80] loss: 2.81549\n",
      "[3,   100] loss: 2.73911\n"
     ]
    },
    {
     "name": "stderr",
     "output_type": "stream",
     "text": [
      "  6%|▌         | 3/50 [00:42<11:01, 14.08s/it]"
     ]
    },
    {
     "name": "stdout",
     "output_type": "stream",
     "text": [
      "acc: 0.411\n",
      "[4,    20] loss: 2.51637\n",
      "[4,    40] loss: 2.50212\n",
      "[4,    60] loss: 2.40602\n",
      "[4,    80] loss: 2.32936\n",
      "[4,   100] loss: 2.37586\n"
     ]
    },
    {
     "name": "stderr",
     "output_type": "stream",
     "text": [
      "  8%|▊         | 4/50 [00:56<10:43, 13.99s/it]"
     ]
    },
    {
     "name": "stdout",
     "output_type": "stream",
     "text": [
      "acc: 0.442\n",
      "[5,    20] loss: 2.14281\n",
      "[5,    40] loss: 2.09727\n",
      "[5,    60] loss: 2.14241\n",
      "[5,    80] loss: 2.05697\n",
      "[5,   100] loss: 1.92129\n"
     ]
    },
    {
     "name": "stderr",
     "output_type": "stream",
     "text": [
      " 10%|█         | 5/50 [01:10<10:27, 13.95s/it]"
     ]
    },
    {
     "name": "stdout",
     "output_type": "stream",
     "text": [
      "acc: 0.454\n",
      "[6,    20] loss: 1.76577\n",
      "[6,    40] loss: 1.79308\n",
      "[6,    60] loss: 1.69562\n",
      "[6,    80] loss: 1.72769\n",
      "[6,   100] loss: 1.75808\n"
     ]
    },
    {
     "name": "stderr",
     "output_type": "stream",
     "text": [
      " 12%|█▏        | 6/50 [01:24<10:12, 13.92s/it]"
     ]
    },
    {
     "name": "stdout",
     "output_type": "stream",
     "text": [
      "acc: 0.509\n",
      "[7,    20] loss: 1.50986\n",
      "[7,    40] loss: 1.41765\n",
      "[7,    60] loss: 1.42235\n",
      "[7,    80] loss: 1.38767\n",
      "[7,   100] loss: 1.43258\n"
     ]
    },
    {
     "name": "stderr",
     "output_type": "stream",
     "text": [
      " 14%|█▍        | 7/50 [01:38<09:57, 13.89s/it]"
     ]
    },
    {
     "name": "stdout",
     "output_type": "stream",
     "text": [
      "acc: 0.528\n",
      "[8,    20] loss: 1.18533\n",
      "[8,    40] loss: 1.16826\n",
      "[8,    60] loss: 1.14181\n",
      "[8,    80] loss: 1.19425\n",
      "[8,   100] loss: 1.27492\n"
     ]
    },
    {
     "name": "stderr",
     "output_type": "stream",
     "text": [
      " 16%|█▌        | 8/50 [01:51<09:42, 13.87s/it]"
     ]
    },
    {
     "name": "stdout",
     "output_type": "stream",
     "text": [
      "acc: 0.593\n",
      "[9,    20] loss: 0.89811\n",
      "[9,    40] loss: 0.84215\n",
      "[9,    60] loss: 0.94667\n",
      "[9,    80] loss: 0.98513\n",
      "[9,   100] loss: 0.95557\n"
     ]
    },
    {
     "name": "stderr",
     "output_type": "stream",
     "text": [
      " 18%|█▊        | 9/50 [02:05<09:27, 13.85s/it]"
     ]
    },
    {
     "name": "stdout",
     "output_type": "stream",
     "text": [
      "acc: 0.600\n",
      "[10,    20] loss: 0.75876\n",
      "[10,    40] loss: 0.72462\n",
      "[10,    60] loss: 0.64022\n",
      "[10,    80] loss: 0.65188\n",
      "[10,   100] loss: 0.76580\n"
     ]
    },
    {
     "name": "stderr",
     "output_type": "stream",
     "text": [
      " 20%|██        | 10/50 [02:19<09:14, 13.85s/it]"
     ]
    },
    {
     "name": "stdout",
     "output_type": "stream",
     "text": [
      "acc: 0.640\n",
      "[11,    20] loss: 0.52112\n",
      "[11,    40] loss: 0.46039\n",
      "[11,    60] loss: 0.43970\n",
      "[11,    80] loss: 0.47581\n",
      "[11,   100] loss: 0.54860\n"
     ]
    },
    {
     "name": "stderr",
     "output_type": "stream",
     "text": [
      " 22%|██▏       | 11/50 [02:33<09:00, 13.85s/it]"
     ]
    },
    {
     "name": "stdout",
     "output_type": "stream",
     "text": [
      "acc: 0.625\n",
      "[12,    20] loss: 0.33290\n",
      "[12,    40] loss: 0.31062\n",
      "[12,    60] loss: 0.28715\n",
      "[12,    80] loss: 0.33353\n",
      "[12,   100] loss: 0.33530\n"
     ]
    },
    {
     "name": "stderr",
     "output_type": "stream",
     "text": [
      " 24%|██▍       | 12/50 [02:47<08:46, 13.85s/it]"
     ]
    },
    {
     "name": "stdout",
     "output_type": "stream",
     "text": [
      "acc: 0.711\n",
      "[13,    20] loss: 0.17268\n",
      "[13,    40] loss: 0.16245\n",
      "[13,    60] loss: 0.16195\n",
      "[13,    80] loss: 0.14563\n",
      "[13,   100] loss: 0.15418\n"
     ]
    },
    {
     "name": "stderr",
     "output_type": "stream",
     "text": [
      " 26%|██▌       | 13/50 [03:01<08:32, 13.85s/it]"
     ]
    },
    {
     "name": "stdout",
     "output_type": "stream",
     "text": [
      "acc: 0.707\n",
      "[14,    20] loss: 0.08180\n",
      "[14,    40] loss: 0.08784\n",
      "[14,    60] loss: 0.07316\n",
      "[14,    80] loss: 0.07047\n",
      "[14,   100] loss: 0.06099\n"
     ]
    },
    {
     "name": "stderr",
     "output_type": "stream",
     "text": [
      " 28%|██▊       | 14/50 [03:14<08:18, 13.84s/it]"
     ]
    },
    {
     "name": "stdout",
     "output_type": "stream",
     "text": [
      "acc: 0.725\n",
      "[15,    20] loss: 0.04692\n",
      "[15,    40] loss: 0.03165\n",
      "[15,    60] loss: 0.02232\n",
      "[15,    80] loss: 0.02188\n",
      "[15,   100] loss: 0.01548\n"
     ]
    },
    {
     "name": "stderr",
     "output_type": "stream",
     "text": [
      " 30%|███       | 15/50 [03:28<08:04, 13.84s/it]"
     ]
    },
    {
     "name": "stdout",
     "output_type": "stream",
     "text": [
      "acc: 0.750\n",
      "[16,    20] loss: 0.00952\n",
      "[16,    40] loss: 0.01197\n",
      "[16,    60] loss: 0.00762\n",
      "[16,    80] loss: 0.01091\n",
      "[16,   100] loss: 0.00790\n"
     ]
    },
    {
     "name": "stderr",
     "output_type": "stream",
     "text": [
      " 32%|███▏      | 16/50 [03:42<07:50, 13.85s/it]"
     ]
    },
    {
     "name": "stdout",
     "output_type": "stream",
     "text": [
      "acc: 0.757\n",
      "[17,    20] loss: 0.00582\n",
      "[17,    40] loss: 0.00612\n",
      "[17,    60] loss: 0.00528\n",
      "[17,    80] loss: 0.00803\n",
      "[17,   100] loss: 0.00645\n"
     ]
    },
    {
     "name": "stderr",
     "output_type": "stream",
     "text": [
      " 34%|███▍      | 17/50 [03:56<07:36, 13.84s/it]"
     ]
    },
    {
     "name": "stdout",
     "output_type": "stream",
     "text": [
      "acc: 0.761\n",
      "[18,    20] loss: 0.00363\n",
      "[18,    40] loss: 0.00604\n",
      "[18,    60] loss: 0.00383\n",
      "[18,    80] loss: 0.00786\n",
      "[18,   100] loss: 0.00370\n"
     ]
    },
    {
     "name": "stderr",
     "output_type": "stream",
     "text": [
      " 36%|███▌      | 18/50 [04:10<07:22, 13.83s/it]"
     ]
    },
    {
     "name": "stdout",
     "output_type": "stream",
     "text": [
      "acc: 0.760\n",
      "[19,    20] loss: 0.00310\n",
      "[19,    40] loss: 0.00434\n",
      "[19,    60] loss: 0.00318\n",
      "[19,    80] loss: 0.00290\n",
      "[19,   100] loss: 0.00849\n"
     ]
    },
    {
     "name": "stderr",
     "output_type": "stream",
     "text": [
      " 38%|███▊      | 19/50 [04:24<07:08, 13.83s/it]"
     ]
    },
    {
     "name": "stdout",
     "output_type": "stream",
     "text": [
      "acc: 0.762\n",
      "[20,    20] loss: 0.00527\n",
      "[20,    40] loss: 0.00266\n",
      "[20,    60] loss: 0.00255\n",
      "[20,    80] loss: 0.00244\n",
      "[20,   100] loss: 0.00676\n"
     ]
    },
    {
     "name": "stderr",
     "output_type": "stream",
     "text": [
      " 40%|████      | 20/50 [04:37<06:54, 13.83s/it]"
     ]
    },
    {
     "name": "stdout",
     "output_type": "stream",
     "text": [
      "acc: 0.762\n",
      "[21,    20] loss: 0.00224\n",
      "[21,    40] loss: 0.00423\n",
      "[21,    60] loss: 0.00213\n",
      "[21,    80] loss: 0.00213\n",
      "[21,   100] loss: 0.00205\n"
     ]
    },
    {
     "name": "stderr",
     "output_type": "stream",
     "text": [
      " 42%|████▏     | 21/50 [04:51<06:41, 13.84s/it]"
     ]
    },
    {
     "name": "stdout",
     "output_type": "stream",
     "text": [
      "acc: 0.764\n",
      "[22,    20] loss: 0.00183\n",
      "[22,    40] loss: 0.00486\n",
      "[22,    60] loss: 0.00185\n",
      "[22,    80] loss: 0.00438\n",
      "[22,   100] loss: 0.00227\n"
     ]
    },
    {
     "name": "stderr",
     "output_type": "stream",
     "text": [
      " 44%|████▍     | 22/50 [05:05<06:27, 13.84s/it]"
     ]
    },
    {
     "name": "stdout",
     "output_type": "stream",
     "text": [
      "acc: 0.767\n",
      "[23,    20] loss: 0.00176\n",
      "[23,    40] loss: 0.00151\n",
      "[23,    60] loss: 0.00331\n",
      "[23,    80] loss: 0.00160\n",
      "[23,   100] loss: 0.00262\n"
     ]
    },
    {
     "name": "stderr",
     "output_type": "stream",
     "text": [
      " 46%|████▌     | 23/50 [05:19<06:13, 13.84s/it]"
     ]
    },
    {
     "name": "stdout",
     "output_type": "stream",
     "text": [
      "acc: 0.762\n",
      "[24,    20] loss: 0.00315\n",
      "[24,    40] loss: 0.00137\n",
      "[24,    60] loss: 0.00151\n",
      "[24,    80] loss: 0.00124\n",
      "[24,   100] loss: 0.00336\n"
     ]
    },
    {
     "name": "stderr",
     "output_type": "stream",
     "text": [
      " 48%|████▊     | 24/50 [05:33<06:00, 13.86s/it]"
     ]
    },
    {
     "name": "stdout",
     "output_type": "stream",
     "text": [
      "acc: 0.763\n",
      "[25,    20] loss: 0.00354\n",
      "[25,    40] loss: 0.00199\n",
      "[25,    60] loss: 0.00379\n",
      "[25,    80] loss: 0.00137\n",
      "[25,   100] loss: 0.00189\n"
     ]
    },
    {
     "name": "stderr",
     "output_type": "stream",
     "text": [
      " 50%|█████     | 25/50 [05:47<05:46, 13.85s/it]"
     ]
    },
    {
     "name": "stdout",
     "output_type": "stream",
     "text": [
      "acc: 0.762\n",
      "[26,    20] loss: 0.00124\n",
      "[26,    40] loss: 0.00207\n",
      "[26,    60] loss: 0.00323\n",
      "[26,    80] loss: 0.00123\n",
      "[26,   100] loss: 0.00367\n"
     ]
    },
    {
     "name": "stderr",
     "output_type": "stream",
     "text": [
      " 52%|█████▏    | 26/50 [06:01<05:32, 13.85s/it]"
     ]
    },
    {
     "name": "stdout",
     "output_type": "stream",
     "text": [
      "acc: 0.762\n",
      "[27,    20] loss: 0.00109\n",
      "[27,    40] loss: 0.00255\n",
      "[27,    60] loss: 0.00077\n",
      "[27,    80] loss: 0.00220\n",
      "[27,   100] loss: 0.00063\n"
     ]
    },
    {
     "name": "stderr",
     "output_type": "stream",
     "text": [
      " 54%|█████▍    | 27/50 [06:14<05:18, 13.85s/it]"
     ]
    },
    {
     "name": "stdout",
     "output_type": "stream",
     "text": [
      "acc: 0.763\n",
      "[28,    20] loss: 0.00047\n",
      "[28,    40] loss: 0.00058\n",
      "[28,    60] loss: 0.00330\n",
      "[28,    80] loss: 0.00057\n",
      "[28,   100] loss: 0.00051\n"
     ]
    },
    {
     "name": "stderr",
     "output_type": "stream",
     "text": [
      " 56%|█████▌    | 28/50 [06:28<05:04, 13.85s/it]"
     ]
    },
    {
     "name": "stdout",
     "output_type": "stream",
     "text": [
      "acc: 0.762\n",
      "[29,    20] loss: 0.00075\n",
      "[29,    40] loss: 0.00061\n",
      "[29,    60] loss: 0.00048\n",
      "[29,    80] loss: 0.00354\n",
      "[29,   100] loss: 0.00180\n"
     ]
    },
    {
     "name": "stderr",
     "output_type": "stream",
     "text": [
      " 58%|█████▊    | 29/50 [06:42<04:50, 13.85s/it]"
     ]
    },
    {
     "name": "stdout",
     "output_type": "stream",
     "text": [
      "acc: 0.763\n",
      "[30,    20] loss: 0.00065\n",
      "[30,    40] loss: 0.00041\n",
      "[30,    60] loss: 0.00101\n",
      "[30,    80] loss: 0.00316\n",
      "[30,   100] loss: 0.00040\n"
     ]
    },
    {
     "name": "stderr",
     "output_type": "stream",
     "text": [
      " 60%|██████    | 30/50 [06:56<04:36, 13.84s/it]"
     ]
    },
    {
     "name": "stdout",
     "output_type": "stream",
     "text": [
      "acc: 0.763\n",
      "[31,    20] loss: 0.00056\n",
      "[31,    40] loss: 0.00039\n",
      "[31,    60] loss: 0.00033\n",
      "[31,    80] loss: 0.00233\n",
      "[31,   100] loss: 0.00131\n"
     ]
    },
    {
     "name": "stderr",
     "output_type": "stream",
     "text": [
      " 62%|██████▏   | 31/50 [07:10<04:22, 13.83s/it]"
     ]
    },
    {
     "name": "stdout",
     "output_type": "stream",
     "text": [
      "acc: 0.766\n",
      "[32,    20] loss: 0.00190\n",
      "[32,    40] loss: 0.00056\n",
      "[32,    60] loss: 0.00025\n",
      "[32,    80] loss: 0.00158\n",
      "[32,   100] loss: 0.00028\n"
     ]
    },
    {
     "name": "stderr",
     "output_type": "stream",
     "text": [
      " 64%|██████▍   | 32/50 [07:24<04:08, 13.83s/it]"
     ]
    },
    {
     "name": "stdout",
     "output_type": "stream",
     "text": [
      "acc: 0.764\n",
      "[33,    20] loss: 0.00069\n",
      "[33,    40] loss: 0.00040\n",
      "[33,    60] loss: 0.00292\n",
      "[33,    80] loss: 0.00027\n",
      "[33,   100] loss: 0.00025\n"
     ]
    },
    {
     "name": "stderr",
     "output_type": "stream",
     "text": [
      " 66%|██████▌   | 33/50 [07:37<03:55, 13.84s/it]"
     ]
    },
    {
     "name": "stdout",
     "output_type": "stream",
     "text": [
      "acc: 0.764\n",
      "[34,    20] loss: 0.00020\n",
      "[34,    40] loss: 0.00046\n",
      "[34,    60] loss: 0.00183\n",
      "[34,    80] loss: 0.00125\n",
      "[34,   100] loss: 0.00018\n"
     ]
    },
    {
     "name": "stderr",
     "output_type": "stream",
     "text": [
      " 68%|██████▊   | 34/50 [07:51<03:41, 13.84s/it]"
     ]
    },
    {
     "name": "stdout",
     "output_type": "stream",
     "text": [
      "acc: 0.759\n",
      "[35,    20] loss: 0.00016\n",
      "[35,    40] loss: 0.00016\n",
      "[35,    60] loss: 0.00176\n",
      "[35,    80] loss: 0.00140\n",
      "[35,   100] loss: 0.00094\n"
     ]
    },
    {
     "name": "stderr",
     "output_type": "stream",
     "text": [
      " 70%|███████   | 35/50 [08:05<03:27, 13.85s/it]"
     ]
    },
    {
     "name": "stdout",
     "output_type": "stream",
     "text": [
      "acc: 0.767\n",
      "[36,    20] loss: 0.00040\n",
      "[36,    40] loss: 0.00131\n",
      "[36,    60] loss: 0.00101\n",
      "[36,    80] loss: 0.00015\n",
      "[36,   100] loss: 0.00118\n"
     ]
    },
    {
     "name": "stderr",
     "output_type": "stream",
     "text": [
      " 72%|███████▏  | 36/50 [08:19<03:13, 13.85s/it]"
     ]
    },
    {
     "name": "stdout",
     "output_type": "stream",
     "text": [
      "acc: 0.760\n",
      "[37,    20] loss: 0.00070\n",
      "[37,    40] loss: 0.00014\n",
      "[37,    60] loss: 0.00039\n",
      "[37,    80] loss: 0.00173\n",
      "[37,   100] loss: 0.00088\n"
     ]
    },
    {
     "name": "stderr",
     "output_type": "stream",
     "text": [
      " 74%|███████▍  | 37/50 [08:33<03:00, 13.85s/it]"
     ]
    },
    {
     "name": "stdout",
     "output_type": "stream",
     "text": [
      "acc: 0.768\n",
      "[38,    20] loss: 0.00106\n",
      "[38,    40] loss: 0.00011\n",
      "[38,    60] loss: 0.00059\n",
      "[38,    80] loss: 0.00075\n",
      "[38,   100] loss: 0.00148\n"
     ]
    },
    {
     "name": "stderr",
     "output_type": "stream",
     "text": [
      " 76%|███████▌  | 38/50 [08:47<02:46, 13.85s/it]"
     ]
    },
    {
     "name": "stdout",
     "output_type": "stream",
     "text": [
      "acc: 0.767\n",
      "[39,    20] loss: 0.00009\n",
      "[39,    40] loss: 0.00064\n",
      "[39,    60] loss: 0.00112\n",
      "[39,    80] loss: 0.00071\n",
      "[39,   100] loss: 0.00011\n"
     ]
    },
    {
     "name": "stderr",
     "output_type": "stream",
     "text": [
      " 78%|███████▊  | 39/50 [09:01<02:32, 13.85s/it]"
     ]
    },
    {
     "name": "stdout",
     "output_type": "stream",
     "text": [
      "acc: 0.766\n",
      "[40,    20] loss: 0.00008\n",
      "[40,    40] loss: 0.00010\n",
      "[40,    60] loss: 0.00178\n",
      "[40,    80] loss: 0.00009\n",
      "[40,   100] loss: 0.00009\n"
     ]
    },
    {
     "name": "stderr",
     "output_type": "stream",
     "text": [
      " 80%|████████  | 40/50 [09:14<02:18, 13.86s/it]"
     ]
    },
    {
     "name": "stdout",
     "output_type": "stream",
     "text": [
      "acc: 0.767\n",
      "[41,    20] loss: 0.00058\n",
      "[41,    40] loss: 0.00009\n",
      "[41,    60] loss: 0.00008\n",
      "[41,    80] loss: 0.00007\n",
      "[41,   100] loss: 0.00132\n"
     ]
    },
    {
     "name": "stderr",
     "output_type": "stream",
     "text": [
      " 82%|████████▏ | 41/50 [09:28<02:04, 13.86s/it]"
     ]
    },
    {
     "name": "stdout",
     "output_type": "stream",
     "text": [
      "acc: 0.764\n",
      "[42,    20] loss: 0.00201\n",
      "[42,    40] loss: 0.00008\n",
      "[42,    60] loss: 0.00087\n",
      "[42,    80] loss: 0.00007\n",
      "[42,   100] loss: 0.00006\n"
     ]
    },
    {
     "name": "stderr",
     "output_type": "stream",
     "text": [
      " 84%|████████▍ | 42/50 [09:42<01:50, 13.85s/it]"
     ]
    },
    {
     "name": "stdout",
     "output_type": "stream",
     "text": [
      "acc: 0.763\n",
      "[43,    20] loss: 0.00059\n",
      "[43,    40] loss: 0.00038\n",
      "[43,    60] loss: 0.00133\n",
      "[43,    80] loss: 0.00083\n",
      "[43,   100] loss: 0.00006\n"
     ]
    },
    {
     "name": "stderr",
     "output_type": "stream",
     "text": [
      " 86%|████████▌ | 43/50 [09:56<01:36, 13.84s/it]"
     ]
    },
    {
     "name": "stdout",
     "output_type": "stream",
     "text": [
      "acc: 0.762\n",
      "[44,    20] loss: 0.00077\n",
      "[44,    40] loss: 0.00078\n",
      "[44,    60] loss: 0.00111\n",
      "[44,    80] loss: 0.00077\n",
      "[44,   100] loss: 0.00007\n"
     ]
    },
    {
     "name": "stderr",
     "output_type": "stream",
     "text": [
      " 88%|████████▊ | 44/50 [10:10<01:23, 13.84s/it]"
     ]
    },
    {
     "name": "stdout",
     "output_type": "stream",
     "text": [
      "acc: 0.761\n",
      "[45,    20] loss: 0.00006\n",
      "[45,    40] loss: 0.00005\n",
      "[45,    60] loss: 0.00071\n",
      "[45,    80] loss: 0.00261\n",
      "[45,   100] loss: 0.00006\n"
     ]
    },
    {
     "name": "stderr",
     "output_type": "stream",
     "text": [
      " 90%|█████████ | 45/50 [10:24<01:09, 13.85s/it]"
     ]
    },
    {
     "name": "stdout",
     "output_type": "stream",
     "text": [
      "acc: 0.763\n",
      "[46,    20] loss: 0.00132\n",
      "[46,    40] loss: 0.00066\n",
      "[46,    60] loss: 0.00098\n",
      "[46,    80] loss: 0.00005\n",
      "[46,   100] loss: 0.00005\n"
     ]
    },
    {
     "name": "stderr",
     "output_type": "stream",
     "text": [
      " 92%|█████████▏| 46/50 [10:37<00:55, 13.85s/it]"
     ]
    },
    {
     "name": "stdout",
     "output_type": "stream",
     "text": [
      "acc: 0.764\n",
      "[47,    20] loss: 0.00005\n",
      "[47,    40] loss: 0.00004\n",
      "[47,    60] loss: 0.00134\n",
      "[47,    80] loss: 0.00004\n",
      "[47,   100] loss: 0.00128\n"
     ]
    },
    {
     "name": "stderr",
     "output_type": "stream",
     "text": [
      " 94%|█████████▍| 47/50 [10:51<00:41, 13.85s/it]"
     ]
    },
    {
     "name": "stdout",
     "output_type": "stream",
     "text": [
      "acc: 0.764\n",
      "[48,    20] loss: 0.00005\n",
      "[48,    40] loss: 0.00120\n",
      "[48,    60] loss: 0.00053\n",
      "[48,    80] loss: 0.00097\n",
      "[48,   100] loss: 0.00004\n"
     ]
    },
    {
     "name": "stderr",
     "output_type": "stream",
     "text": [
      " 96%|█████████▌| 48/50 [11:05<00:27, 13.85s/it]"
     ]
    },
    {
     "name": "stdout",
     "output_type": "stream",
     "text": [
      "acc: 0.762\n",
      "[49,    20] loss: 0.00065\n",
      "[49,    40] loss: 0.00004\n",
      "[49,    60] loss: 0.00004\n",
      "[49,    80] loss: 0.00132\n",
      "[49,   100] loss: 0.00081\n"
     ]
    },
    {
     "name": "stderr",
     "output_type": "stream",
     "text": [
      " 98%|█████████▊| 49/50 [11:19<00:13, 13.85s/it]"
     ]
    },
    {
     "name": "stdout",
     "output_type": "stream",
     "text": [
      "acc: 0.761\n",
      "[50,    20] loss: 0.00003\n",
      "[50,    40] loss: 0.00004\n",
      "[50,    60] loss: 0.00050\n",
      "[50,    80] loss: 0.00202\n",
      "[50,   100] loss: 0.00004\n"
     ]
    },
    {
     "name": "stderr",
     "output_type": "stream",
     "text": [
      "100%|██████████| 50/50 [11:33<00:00, 13.87s/it]"
     ]
    },
    {
     "name": "stdout",
     "output_type": "stream",
     "text": [
      "acc: 0.760\n",
      "Finished Training\n"
     ]
    },
    {
     "name": "stderr",
     "output_type": "stream",
     "text": [
      "\n"
     ]
    }
   ],
   "source": [
    "acc = []\n",
    "\n",
    "#for epoch in tqdm(range(50)):\n",
    "for epoch in tqdm(range(50)):\n",
    "    if epoch==25:\n",
    "        optimizer = optim.Adam(resnet18.parameters(), lr=0.0001)\n",
    "    running_loss = 0.0\n",
    "    for i, data in enumerate(trainloader):\n",
    "\n",
    "      inputs, labels = data\n",
    "      optimizer.zero_grad()\n",
    "\n",
    "      outputs = resnet18(inputs)\n",
    "      loss = criterion(outputs, labels)\n",
    "      loss.backward()\n",
    "      optimizer.step()\n",
    "\n",
    "      running_loss += loss.item()\n",
    "      if i % 20 == 19:\n",
    "          print('[%d, %5d] loss: %.5f' %\n",
    "                (epoch + 1, i + 1, running_loss / 20))\n",
    "          running_loss = 0.0\n",
    "\n",
    "    acc.append(model_test(resnet18, testloader))\n",
    "    print('acc: %.3f' % acc[epoch])\n",
    "print('Finished Training')\n",
    "acc.append(model_test(resnet18, testloader))\n"
   ]
  },
  {
   "cell_type": "code",
   "execution_count": 20,
   "id": "8ff2e77b",
   "metadata": {
    "execution": {
     "iopub.execute_input": "2024-03-30T21:55:36.035483Z",
     "iopub.status.busy": "2024-03-30T21:55:36.034535Z",
     "iopub.status.idle": "2024-03-30T21:55:36.313262Z",
     "shell.execute_reply": "2024-03-30T21:55:36.312308Z"
    },
    "papermill": {
     "duration": 0.317847,
     "end_time": "2024-03-30T21:55:36.315524",
     "exception": false,
     "start_time": "2024-03-30T21:55:35.997677",
     "status": "completed"
    },
    "tags": []
   },
   "outputs": [
    {
     "data": {
      "text/plain": [
       "[<matplotlib.lines.Line2D at 0x7e5c58cbab90>]"
      ]
     },
     "execution_count": 20,
     "metadata": {},
     "output_type": "execute_result"
    },
    {
     "data": {
      "image/png": "[encoded data removed]",
      "text/plain": [
       "<Figure size 640x480 with 1 Axes>"
      ]
     },
     "metadata": {},
     "output_type": "display_data"
    }
   ],
   "source": [
    "plt.plot(acc)"
   ]
  }
 ],
 "metadata": {
  "kaggle": {
   "accelerator": "gpu",
   "dataSources": [],
   "dockerImageVersionId": 30673,
   "isGpuEnabled": true,
   "isInternetEnabled": true,
   "language": "python",
   "sourceType": "notebook"
  },
  "kernelspec": {
   "display_name": "Python 3",
   "language": "python",
   "name": "python3"
  },
  "language_info": {
   "codemirror_mode": {
    "name": "ipython",
    "version": 3
   },
   "file_extension": ".py",
   "mimetype": "text/x-python",
   "name": "python",
   "nbconvert_exporter": "python",
   "pygments_lexer": "ipython3",
   "version": "3.10.13"
  },
  "papermill": {
   "default_parameters": {},
   "duration": 752.51209,
   "end_time": "2024-03-30T21:55:38.999625",
   "environment_variables": {},
   "exception": null,
   "input_path": "__notebook__.ipynb",
   "output_path": "__notebook__.ipynb",
   "parameters": {},
   "start_time": "2024-03-30T21:43:06.487535",
   "version": "2.5.0"
  }
 },
 "nbformat": 4,
 "nbformat_minor": 5
}
