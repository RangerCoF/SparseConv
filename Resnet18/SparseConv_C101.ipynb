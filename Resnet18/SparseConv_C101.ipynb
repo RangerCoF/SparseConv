{
  "nbformat": 4,
  "nbformat_minor": 0,
  "metadata": {
    "colab": {
      "provenance": [],
      "machine_shape": "hm",
      "gpuType": "V100"
    },
    "kernelspec": {
      "name": "python3",
      "display_name": "Python 3"
    },
    "language_info": {
      "name": "python"
    },
    "accelerator": "GPU"
  },
  "cells": [
    {
      "cell_type": "code",
      "execution_count": null,
      "metadata": {
        "id": "Zvd-AJMbM5dd"
      },
      "outputs": [],
      "source": [
        "import zipfile\n",
        "import tarfile\n",
        "import gzip\n",
        "import requests\n",
        "import os"
      ]
    },
    {
      "cell_type": "code",
      "source": [
        "def download_file(url, save_path):\n",
        "    # Send a request\n",
        "    response = requests.get(url, stream=True)\n",
        "    # Check the response status code\n",
        "    if response.status_code == 200:\n",
        "        # Open the file in binary write mode\n",
        "        with open(save_path, 'wb') as f:\n",
        "            # Write the file chunk by chunk\n",
        "            for chunk in response.iter_content(chunk_size=128):\n",
        "                f.write(chunk)\n",
        "        print(\"File downloaded successfully\")\n",
        "    else:\n",
        "        print(\"Download failed. Status code:\", response.status_code)\n",
        "\n",
        "def extract_tar(file_path, extract_path):\n",
        "    # Check if the file exists\n",
        "    if not os.path.exists(file_path):\n",
        "        print(f\"File '{file_path}' does not exist\")\n",
        "        return\n",
        "\n",
        "    # Extract .tar file\n",
        "    with tarfile.open(file_path, 'r') as tar:\n",
        "        tar.extractall(path=extract_path)\n",
        "    print(f\"Extracted '{file_path}' to '{extract_path}'\")\n",
        "\n",
        "def extract_tar_gz(file_path, extract_path):\n",
        "    # Check if the file exists\n",
        "    if not os.path.exists(file_path):\n",
        "        print(f\"File '{file_path}' does not exist\")\n",
        "        return\n",
        "\n",
        "    # Extract .tar.gz file\n",
        "    with gzip.open(file_path, 'rb') as gz:\n",
        "        with tarfile.open(fileobj=gz, mode='r') as tar:\n",
        "            tar.extractall(path=extract_path)\n",
        "    print(f\"Extracted '{file_path}' to '{extract_path}'\")"
      ],
      "metadata": {
        "id": "g6YG4E6WNFtM"
      },
      "execution_count": null,
      "outputs": []
    },
    {
      "cell_type": "code",
      "source": [
        "caltech101_url = 'https://data.caltech.edu/records/mzrjq-6wc02/files/caltech-101.zip?download=1'\n",
        "download_path = '/content/downloads'\n",
        "caltech101_path = download_path + '/caltech-101.zip'\n",
        "\n",
        "if not os.path.exists(download_path):\n",
        "  os.makedirs(download_path)\n",
        "\n",
        "download_file(caltech101_url, caltech101_path)"
      ],
      "metadata": {
        "colab": {
          "base_uri": "https://localhost:8080/"
        },
        "id": "dTgn9p45NHSI",
        "outputId": "cf48fff2-1592-4483-8f43-21504cc8b411"
      },
      "execution_count": null,
      "outputs": [
        {
          "output_type": "stream",
          "name": "stdout",
          "text": [
            "File downloaded successfully\n"
          ]
        }
      ]
    },
    {
      "cell_type": "code",
      "source": [
        "extract_path = download_path + '/extract'\n",
        "if not os.path.exists(extract_path):\n",
        "  os.makedirs(extract_path)\n",
        "with zipfile.ZipFile(caltech101_path, 'r') as zip_ref:\n",
        "  zip_ref.extractall(extract_path)"
      ],
      "metadata": {
        "id": "jHUHm_NrNQcW"
      },
      "execution_count": null,
      "outputs": []
    },
    {
      "cell_type": "code",
      "source": [
        "dataset_path = '/content/data'\n",
        "if not os.path.exists(dataset_path):\n",
        "  os.makedirs(dataset_path)\n",
        "\n",
        "#label_path = dataset_path + '/label'\n",
        "#image_path = dataset_path + '/image'\n",
        "\n",
        "#extract_tar(extract_path + '/caltech-101/Annotations.tar', label_path)\n",
        "#extract_tar_gz(extract_path + '/caltech-101/101_ObjectCategories.tar.gz', image_path)\n",
        "extract_tar_gz(extract_path + '/caltech-101/101_ObjectCategories.tar.gz', dataset_path)"
      ],
      "metadata": {
        "colab": {
          "base_uri": "https://localhost:8080/"
        },
        "id": "JF6V3su9NQmY",
        "outputId": "49fdde39-152b-483e-edd6-e0f3dde2b48f"
      },
      "execution_count": null,
      "outputs": [
        {
          "output_type": "stream",
          "name": "stdout",
          "text": [
            "Extracted '/content/downloads/extract/caltech-101/101_ObjectCategories.tar.gz' to '/content/data'\n"
          ]
        }
      ]
    },
    {
      "cell_type": "code",
      "source": [
        "image_path = dataset_path + '/101_ObjectCategories'\n",
        "\n",
        "label_list = os.listdir(image_path)\n",
        "label_list = [item for item in label_list if item!='BACKGROUND_Google']\n",
        "label_path = [image_path + '/' + item for item in label_list]"
      ],
      "metadata": {
        "id": "lKnbwvFRNQpW"
      },
      "execution_count": null,
      "outputs": []
    },
    {
      "cell_type": "code",
      "source": [
        "import matplotlib.pyplot as plt\n",
        "import numpy as np\n",
        "from tqdm import tqdm\n",
        "\n",
        "import torch\n",
        "import torch.nn as nn\n",
        "import torch.nn.functional as F\n",
        "from torch.utils.data import Dataset,DataLoader\n",
        "import torch.optim as optim\n",
        "import torchvision\n",
        "import torchvision.transforms as transforms\n",
        "from sklearn.model_selection import train_test_split\n",
        "from PIL import Image"
      ],
      "metadata": {
        "id": "Xy-8Y0BUNQsQ"
      },
      "execution_count": null,
      "outputs": []
    },
    {
      "cell_type": "code",
      "source": [
        "if torch.cuda.is_available():\n",
        "    device = torch.device(\"cuda\")\n",
        "    print(\"device=cuda\")\n",
        "else:\n",
        "    device = torch.device(\"cpu\")\n",
        "    print(\"device=cpu\")"
      ],
      "metadata": {
        "colab": {
          "base_uri": "https://localhost:8080/"
        },
        "id": "Y5S8lRW_NQvP",
        "outputId": "541c01b5-d05a-42b1-eec3-263ef036f3c0"
      },
      "execution_count": null,
      "outputs": [
        {
          "output_type": "stream",
          "name": "stdout",
          "text": [
            "device=cuda\n"
          ]
        }
      ]
    },
    {
      "cell_type": "code",
      "source": [
        "transform = transforms.Compose(\n",
        "    [transforms.Resize((224, 224)),\n",
        "    transforms.ToTensor(),\n",
        "    transforms.Normalize(mean=[0.485, 0.456, 0.406],\n",
        "                        std=[0.229, 0.224, 0.225])]\n",
        "    )"
      ],
      "metadata": {
        "id": "XdfvXYLTNQyO"
      },
      "execution_count": null,
      "outputs": []
    },
    {
      "cell_type": "code",
      "source": [
        "images = []\n",
        "labels = []\n",
        "\n",
        "for i in range(len(label_path)):\n",
        "  folder_path = label_path[i]\n",
        "#for folder_path in label_path:\n",
        "  for filename in os.listdir(folder_path):\n",
        "    file_path = os.path.join(folder_path, filename)\n",
        "    #print(file_path)\n",
        "    if filename.endswith('.jpg') or filename.endswith('.jpeg'):\n",
        "      img = Image.open(file_path)\n",
        "      if img.mode != 'RGB':\n",
        "        img = img.convert('RGB')\n",
        "      img_transformed = transform(img)\n",
        "      images.append(img_transformed)\n",
        "      labels.append(i)\n",
        "\n",
        "labels = torch.tensor(labels)\n"
      ],
      "metadata": {
        "id": "LY5rlcbYNQ1S"
      },
      "execution_count": null,
      "outputs": []
    },
    {
      "cell_type": "code",
      "source": [
        "train_data, test_data, train_targets, test_targets = train_test_split(images, labels, test_size=0.2, random_state=42)"
      ],
      "metadata": {
        "id": "DZtxag330wV-"
      },
      "execution_count": null,
      "outputs": []
    },
    {
      "cell_type": "code",
      "source": [
        "class ConvNetDataset(Dataset):\n",
        "  def __init__(self, data, targets, device, mask=1):\n",
        "    self.data = data\n",
        "    self.targets = targets\n",
        "    self.mask = mask\n",
        "    # if type(mask) != int:\n",
        "    #     for i in range(len(self.data)):\n",
        "    #         self.data[i] = torch.cat((self.data[i] * mask[i], mask[i].unsqueeze(0)), dim=0)\n",
        "  def __len__(self):\n",
        "    return len(self.data)\n",
        "\n",
        "  def __getitem__(self, idx):\n",
        "    data = torch.cat((self.data[idx], self.mask[idx].unsqueeze(0)), dim=0).to(device)\n",
        "    targets = self.targets[idx].to(device)\n",
        "    return data, targets"
      ],
      "metadata": {
        "id": "DFT9MVY_Napu"
      },
      "execution_count": null,
      "outputs": []
    },
    {
      "cell_type": "code",
      "source": [
        "prob = 0\n",
        "batch_size = 64\n",
        "\n",
        "train_mask = torch.bernoulli(torch.full(torch.Size([len(train_data)]) + train_data[0].shape[1:], 1 - float(prob)))\n",
        "test_mask = torch.bernoulli(torch.full(torch.Size([len(test_data)]) + test_data[0].shape[1:], 1 - float(prob)))\n",
        "\n",
        "trainset = ConvNetDataset(train_data, train_targets, device, train_mask)\n",
        "testset = ConvNetDataset(test_data, test_targets, device, test_mask)\n",
        "trainloader = torch.utils.data.DataLoader(trainset, batch_size=batch_size, shuffle=True, num_workers=0, pin_memory=False)\n",
        "testloader = torch.utils.data.DataLoader(testset, batch_size=batch_size, shuffle=False, num_workers=0, pin_memory=False)"
      ],
      "metadata": {
        "id": "mHkPWJI_zhPW"
      },
      "execution_count": null,
      "outputs": []
    },
    {
      "cell_type": "code",
      "source": [
        "trainset[0][0].shape"
      ],
      "metadata": {
        "colab": {
          "base_uri": "https://localhost:8080/"
        },
        "id": "njrlaswH2Cej",
        "outputId": "64f5d985-7f9f-441c-9ac4-7a42a8bd3c87"
      },
      "execution_count": null,
      "outputs": [
        {
          "output_type": "execute_result",
          "data": {
            "text/plain": [
              "torch.Size([4, 224, 224])"
            ]
          },
          "metadata": {},
          "execution_count": 14
        }
      ]
    },
    {
      "cell_type": "code",
      "source": [
        "def model_test(model, testloader):\n",
        "    correct = 0\n",
        "    total = 0\n",
        "    model.eval()\n",
        "    with torch.no_grad():\n",
        "        for data in testloader:\n",
        "            images, labels = data\n",
        "            outputs = model(images)\n",
        "            _, predicted = torch.max(outputs.data, 1)\n",
        "            total += labels.size(0)\n",
        "            correct += (predicted == labels).sum().item()\n",
        "    model.train()\n",
        "    return correct / total"
      ],
      "metadata": {
        "id": "21iAzNJ-Ndms"
      },
      "execution_count": null,
      "outputs": []
    },
    {
      "cell_type": "code",
      "source": [
        "# class ResBlock(nn.Module):\n",
        "#     def __init__(self, channels, kernel_size=3, double_channels=False):\n",
        "#         super(ResBlock, self).__init__()\n",
        "#         if double_channels:\n",
        "#             self.conv1 = nn.Conv2d(channels // 2, channels, kernel_size=kernel_size, stride=2, padding=kernel_size // 2)\n",
        "#             self.conv2 = nn.Conv2d(channels, channels, kernel_size=kernel_size, stride=1, padding='same')\n",
        "#             self.res = nn.Conv2d(channels // 2, channels, kernel_size=1, stride=2, padding=0)\n",
        "#         else:\n",
        "#             self.conv1 = nn.Conv2d(channels, channels, kernel_size=kernel_size, stride=1, padding='same')\n",
        "#             self.conv2 = nn.Conv2d(channels, channels, kernel_size=kernel_size, stride=1, padding='same')\n",
        "#             self.res = nn.Identity()\n",
        "\n",
        "#         self.bn1 = nn.BatchNorm2d(channels)\n",
        "#         self.bn2 = nn.BatchNorm2d(channels)\n",
        "#         self.relu1 = nn.ReLU(inplace=True)\n",
        "#         self.relu2 = nn.ReLU(inplace=True)\n",
        "\n",
        "#         self.layer = nn.Sequential(self.conv1, self.bn1, self.relu1, self.conv2, self.bn2)\n",
        "\n",
        "#     def forward(self, x):\n",
        "#         res = self.res(x)\n",
        "#         x = self.layer(x)\n",
        "#         x = x + res\n",
        "#         x = self.relu2(x)\n",
        "#         return x\n",
        "\n",
        "# class Resnet18(nn.Module):\n",
        "#     def __init__(self):\n",
        "#         super(Resnet18, self).__init__()\n",
        "#         layers = []\n",
        "#         layers.append(nn.Conv2d(3, 64, kernel_size=7, stride=2, padding=3))\n",
        "#         layers.append(nn.BatchNorm2d(64))\n",
        "#         layers.append(nn.ReLU(inplace=True))\n",
        "#         layers.append(nn.MaxPool2d(3, 2, 1))\n",
        "#         layers.append(ResBlock(64, 3))\n",
        "#         layers.append(ResBlock(64, 3))\n",
        "#         layers.append(ResBlock(128, 3, True))\n",
        "#         layers.append(ResBlock(128, 3))\n",
        "#         layers.append(ResBlock(256, 3, True))\n",
        "#         layers.append(ResBlock(256, 3))\n",
        "#         layers.append(ResBlock(512, 3, True))\n",
        "#         layers.append(ResBlock(512, 3))\n",
        "#         layers.append(nn.AdaptiveAvgPool2d(1))\n",
        "#         layers.append(nn.Flatten())\n",
        "#         layers.append(nn.Linear(512, 101))\n",
        "#         self.layer = nn.Sequential(*layers)\n",
        "\n",
        "#     def forward(self, x):\n",
        "#         x = self.layer(x)\n",
        "#         return x"
      ],
      "metadata": {
        "id": "ZTgLH-mGNhnR"
      },
      "execution_count": null,
      "outputs": []
    },
    {
      "cell_type": "code",
      "source": [
        "class SparseConvBlock(nn.Module):\n",
        "  def __init__(\n",
        "      self,\n",
        "      in_channels,\n",
        "      out_channels,\n",
        "      kernel_size,\n",
        "      stride=1,\n",
        "      padding='same',\n",
        "      dilation=1):\n",
        "    super(SparseConvBlock, self).__init__()\n",
        "\n",
        "    self.conv = nn.Conv2d(\n",
        "      in_channels=in_channels,\n",
        "      out_channels=out_channels,\n",
        "      kernel_size=kernel_size,\n",
        "      stride=stride,\n",
        "      padding=padding,\n",
        "      dilation=dilation,\n",
        "      bias=False,\n",
        "      device=device)\n",
        "\n",
        "    self.bias = nn.Parameter(\n",
        "      torch.zeros(out_channels),\n",
        "      requires_grad=True\n",
        "      )\n",
        "\n",
        "    self.sparsity = nn.Conv2d(\n",
        "      in_channels,\n",
        "      out_channels,\n",
        "      kernel_size=kernel_size,\n",
        "      stride=stride,\n",
        "      padding=padding,\n",
        "      dilation=dilation,\n",
        "      bias=False,\n",
        "      )\n",
        "    kernel = torch.FloatTensor(torch.ones([kernel_size, kernel_size])).unsqueeze(0).unsqueeze(0)\n",
        "    self.sparsity.weight = nn.Parameter(\n",
        "      data=kernel,\n",
        "      requires_grad=False)\n",
        "\n",
        "  def forward(self, x, mask):\n",
        "    x = self.conv(x * mask)\n",
        "    normalizer = self.sparsity(mask) + 1e-8\n",
        "    x = x / normalizer + self.bias.unsqueeze(0).unsqueeze(2).unsqueeze(3)\n",
        "    return x"
      ],
      "metadata": {
        "id": "FllRsRz4Nk8a"
      },
      "execution_count": null,
      "outputs": []
    },
    {
      "cell_type": "code",
      "source": [
        "class SparseResBlock(nn.Module):\n",
        "    def __init__(self, channels, kernel_size=3):\n",
        "        super(SparseResBlock, self).__init__()\n",
        "        self.conv1 = SparseConvBlock(channels, channels, kernel_size=kernel_size, stride=1, padding='same')\n",
        "        self.conv2 = SparseConvBlock(channels, channels, kernel_size=kernel_size, stride=1, padding='same')\n",
        "        self.res = nn.Identity()\n",
        "\n",
        "        self.bn1 = nn.BatchNorm2d(channels)\n",
        "        self.bn2 = nn.BatchNorm2d(channels)\n",
        "        self.relu1 = nn.ReLU(inplace=True)\n",
        "        self.relu2 = nn.ReLU(inplace=True)\n",
        "\n",
        "        #self.layer = nn.Sequential(self.conv1, self.bn1, self.relu1, self.conv2, self.bn2)\n",
        "\n",
        "    def forward(self, x, mask):\n",
        "        res = self.res(x)\n",
        "\n",
        "        #x = self.layer(x, mask)\n",
        "        x = self.conv1(x, mask)\n",
        "        mask = self.res(mask)\n",
        "        x = self.bn1(x)\n",
        "        x = self.relu1(x)\n",
        "        x = self.conv2(x, mask)\n",
        "        x = x + res\n",
        "        x = self.relu2(x)\n",
        "\n",
        "        return x, mask\n",
        "\n",
        "class SparseResBlockDouble(nn.Module):\n",
        "    def __init__(self, channels, kernel_size=3, double_channels=False):\n",
        "        super(SparseResBlockDouble, self).__init__()\n",
        "        self.conv1 = SparseConvBlock(channels // 2, channels, kernel_size=kernel_size, stride=2, padding=kernel_size // 2)\n",
        "        self.conv2 = SparseConvBlock(channels, channels, kernel_size=kernel_size, stride=1, padding='same')\n",
        "\n",
        "        self.res_pool = nn.MaxPool2d(2, 2)\n",
        "        self.res_conv = SparseConvBlock(channels // 2, channels, kernel_size=1, stride=1, padding='same')\n",
        "\n",
        "        self.bn1 = nn.BatchNorm2d(channels)\n",
        "        self.bn2 = nn.BatchNorm2d(channels)\n",
        "        self.relu1 = nn.ReLU(inplace=True)\n",
        "        self.relu2 = nn.ReLU(inplace=True)\n",
        "\n",
        "        #self.layer = nn.Sequential(self.conv1, self.bn1, self.relu1, self.conv2, self.bn2)\n",
        "\n",
        "    def forward(self, x, mask):\n",
        "      mask_pooled = self.res_pool(mask)\n",
        "      res = self.res_conv(self.res_pool(x), mask_pooled)\n",
        "\n",
        "      x = self.conv1(x, mask)\n",
        "      x = self.bn1(x)\n",
        "      x = self.relu1(x)\n",
        "      x = self.conv2(x, mask_pooled)\n",
        "      x = x + res\n",
        "      x = self.relu2(x)\n",
        "\n",
        "      return x, mask_pooled\n",
        "\n",
        "class SparseResnet18(nn.Module):\n",
        "    def __init__(self):\n",
        "        super(SparseResnet18, self).__init__()\n",
        "        self.conv1 = SparseConvBlock(3, 64, kernel_size=7, stride=2, padding=3)\n",
        "        self.bn1 = nn.BatchNorm2d(64)\n",
        "        self.relu1 = nn.ReLU(inplace=True)\n",
        "        self.pool_mask = nn.MaxPool2d(2, 2)\n",
        "        self.pool1 = nn.MaxPool2d(3, 2, 1)\n",
        "\n",
        "        self.res_layers = []\n",
        "        self.res_layers.append(SparseResBlock(64, 3).to(device))\n",
        "        self.res_layers.append(SparseResBlock(64, 3).to(device))\n",
        "        self.res_layers.append(SparseResBlockDouble(128, 3).to(device))\n",
        "        self.res_layers.append(SparseResBlock(128, 3).to(device))\n",
        "        self.res_layers.append(SparseResBlockDouble(256, 3).to(device))\n",
        "        self.res_layers.append(SparseResBlock(256, 3).to(device))\n",
        "        self.res_layers.append(SparseResBlockDouble(512, 3).to(device))\n",
        "        self.res_layers.append(SparseResBlock(512, 3).to(device))\n",
        "\n",
        "        output_layers = []\n",
        "        output_layers.append(nn.AdaptiveAvgPool2d(1))\n",
        "        output_layers.append(nn.Flatten())\n",
        "        output_layers.append(nn.Linear(512, 101))\n",
        "        self.output_layers = nn.Sequential(*output_layers)\n",
        "\n",
        "\n",
        "    def forward(self, x):\n",
        "      mask = x[:, -1:, :, :]\n",
        "      x = x[:, :-1, :, :]\n",
        "\n",
        "      x = self.conv1(x, mask)\n",
        "      x = self.bn1(x)\n",
        "      x = self.relu1(x)\n",
        "      mask = self.pool_mask(mask)\n",
        "      x = self.pool1(x)\n",
        "      mask = self.pool1(mask)\n",
        "\n",
        "      i = 0\n",
        "      for layer in self.res_layers:\n",
        "        x, mask = layer(x, mask)\n",
        "      x = self.output_layers(x)\n",
        "      return x"
      ],
      "metadata": {
        "id": "7m99_00uO2Bm"
      },
      "execution_count": null,
      "outputs": []
    },
    {
      "cell_type": "code",
      "source": [
        "sparseresnet18 = SparseResnet18().to(device)\n",
        "criterion = nn.CrossEntropyLoss()\n",
        "optimizer = optim.Adam(sparseresnet18.parameters(), lr=0.001)"
      ],
      "metadata": {
        "id": "JmB5aLAztN-j"
      },
      "execution_count": null,
      "outputs": []
    },
    {
      "cell_type": "code",
      "source": [
        "acc = []\n",
        "for epoch in tqdm(range(50)):\n",
        "  # if epoch==25:\n",
        "  #   optimizer = optim.Adam(sparseresnet18.parameters(), lr=0.0001)\n",
        "  running_loss = 0.0\n",
        "  for i, data in enumerate(trainloader):\n",
        "\n",
        "    inputs, labels = data\n",
        "    optimizer.zero_grad()\n",
        "    outputs = sparseresnet18(inputs)\n",
        "    loss = criterion(outputs, labels)\n",
        "    loss.backward()\n",
        "    optimizer.step()\n",
        "\n",
        "    running_loss += loss.item()\n",
        "    if i % 20 == 19:\n",
        "      print('[%d, %5d] loss: %.5f' %\n",
        "          (epoch + 1, i + 1, running_loss / 20))\n",
        "      running_loss = 0.0\n",
        "\n",
        "  acc.append(model_test(sparseresnet18, testloader))\n",
        "  print('acc: %.3f' % acc[epoch])\n",
        "print('Finished Training')\n",
        "# acc.append(model_test(resnet18, testloader))"
      ],
      "metadata": {
        "colab": {
          "base_uri": "https://localhost:8080/"
        },
        "id": "8N92wqbkseqh",
        "outputId": "6685f57a-5e6c-4777-fc17-0d9a76691ea0"
      },
      "execution_count": null,
      "outputs": [
        {
          "output_type": "stream",
          "name": "stderr",
          "text": [
            "\r  0%|          | 0/50 [00:00<?, ?it/s]"
          ]
        },
        {
          "output_type": "stream",
          "name": "stdout",
          "text": [
            "[1,    20] loss: 4.44880\n",
            "[1,    40] loss: 4.24435\n",
            "[1,    60] loss: 4.17721\n",
            "[1,    80] loss: 4.12498\n",
            "[1,   100] loss: 4.17944\n"
          ]
        },
        {
          "output_type": "stream",
          "name": "stderr",
          "text": [
            "\r  2%|▏         | 1/50 [00:10<08:40, 10.63s/it]"
          ]
        },
        {
          "output_type": "stream",
          "name": "stdout",
          "text": [
            "acc: 0.145\n",
            "[2,    20] loss: 4.08845\n",
            "[2,    40] loss: 4.06375\n",
            "[2,    60] loss: 4.06187\n",
            "[2,    80] loss: 4.05722\n",
            "[2,   100] loss: 3.99800\n"
          ]
        },
        {
          "output_type": "stream",
          "name": "stderr",
          "text": [
            "\r  4%|▍         | 2/50 [00:21<08:32, 10.68s/it]"
          ]
        },
        {
          "output_type": "stream",
          "name": "stdout",
          "text": [
            "acc: 0.187\n",
            "[3,    20] loss: 3.92647\n",
            "[3,    40] loss: 3.97708\n",
            "[3,    60] loss: 3.91015\n",
            "[3,    80] loss: 3.90662\n",
            "[3,   100] loss: 3.94072\n"
          ]
        },
        {
          "output_type": "stream",
          "name": "stderr",
          "text": [
            "\r  6%|▌         | 3/50 [00:32<08:23, 10.70s/it]"
          ]
        },
        {
          "output_type": "stream",
          "name": "stdout",
          "text": [
            "acc: 0.206\n",
            "[4,    20] loss: 3.84000\n",
            "[4,    40] loss: 3.83132\n",
            "[4,    60] loss: 3.80313\n",
            "[4,    80] loss: 3.87088\n",
            "[4,   100] loss: 3.75828\n"
          ]
        },
        {
          "output_type": "stream",
          "name": "stderr",
          "text": [
            "\r  8%|▊         | 4/50 [00:42<08:13, 10.72s/it]"
          ]
        },
        {
          "output_type": "stream",
          "name": "stdout",
          "text": [
            "acc: 0.232\n",
            "[5,    20] loss: 3.78070\n",
            "[5,    40] loss: 3.73422\n",
            "[5,    60] loss: 3.64263\n",
            "[5,    80] loss: 3.80149\n",
            "[5,   100] loss: 3.60970\n"
          ]
        },
        {
          "output_type": "stream",
          "name": "stderr",
          "text": [
            "\r 10%|█         | 5/50 [00:53<08:01, 10.71s/it]"
          ]
        },
        {
          "output_type": "stream",
          "name": "stdout",
          "text": [
            "acc: 0.241\n",
            "[6,    20] loss: 3.68732\n",
            "[6,    40] loss: 3.64333\n",
            "[6,    60] loss: 3.57673\n",
            "[6,    80] loss: 3.56562\n",
            "[6,   100] loss: 3.56642\n"
          ]
        },
        {
          "output_type": "stream",
          "name": "stderr",
          "text": [
            "\r 12%|█▏        | 6/50 [01:04<07:50, 10.69s/it]"
          ]
        },
        {
          "output_type": "stream",
          "name": "stdout",
          "text": [
            "acc: 0.253\n",
            "[7,    20] loss: 3.61666\n",
            "[7,    40] loss: 3.48661\n",
            "[7,    60] loss: 3.52290\n",
            "[7,    80] loss: 3.45227\n",
            "[7,   100] loss: 3.43062\n"
          ]
        },
        {
          "output_type": "stream",
          "name": "stderr",
          "text": [
            "\r 14%|█▍        | 7/50 [01:14<07:38, 10.66s/it]"
          ]
        },
        {
          "output_type": "stream",
          "name": "stdout",
          "text": [
            "acc: 0.262\n",
            "[8,    20] loss: 3.42834\n",
            "[8,    40] loss: 3.40367\n",
            "[8,    60] loss: 3.48514\n",
            "[8,    80] loss: 3.46195\n",
            "[8,   100] loss: 3.33728\n"
          ]
        },
        {
          "output_type": "stream",
          "name": "stderr",
          "text": [
            "\r 16%|█▌        | 8/50 [01:25<07:27, 10.65s/it]"
          ]
        },
        {
          "output_type": "stream",
          "name": "stdout",
          "text": [
            "acc: 0.284\n",
            "[9,    20] loss: 3.36260\n",
            "[9,    40] loss: 3.34649\n",
            "[9,    60] loss: 3.37761\n",
            "[9,    80] loss: 3.36016\n",
            "[9,   100] loss: 3.36220\n"
          ]
        },
        {
          "output_type": "stream",
          "name": "stderr",
          "text": [
            "\r 18%|█▊        | 9/50 [01:35<07:16, 10.64s/it]"
          ]
        },
        {
          "output_type": "stream",
          "name": "stdout",
          "text": [
            "acc: 0.295\n",
            "[10,    20] loss: 3.31998\n",
            "[10,    40] loss: 3.30514\n",
            "[10,    60] loss: 3.24776\n",
            "[10,    80] loss: 3.29192\n",
            "[10,   100] loss: 3.21387\n"
          ]
        },
        {
          "output_type": "stream",
          "name": "stderr",
          "text": [
            "\r 20%|██        | 10/50 [01:46<07:05, 10.63s/it]"
          ]
        },
        {
          "output_type": "stream",
          "name": "stdout",
          "text": [
            "acc: 0.315\n",
            "[11,    20] loss: 3.22688\n",
            "[11,    40] loss: 3.26126\n",
            "[11,    60] loss: 3.24806\n",
            "[11,    80] loss: 3.22197\n",
            "[11,   100] loss: 3.21385\n"
          ]
        },
        {
          "output_type": "stream",
          "name": "stderr",
          "text": [
            "\r 22%|██▏       | 11/50 [01:57<06:54, 10.62s/it]"
          ]
        },
        {
          "output_type": "stream",
          "name": "stdout",
          "text": [
            "acc: 0.322\n",
            "[12,    20] loss: 3.19355\n",
            "[12,    40] loss: 3.21196\n",
            "[12,    60] loss: 3.13506\n",
            "[12,    80] loss: 3.27233\n",
            "[12,   100] loss: 3.16411\n"
          ]
        },
        {
          "output_type": "stream",
          "name": "stderr",
          "text": [
            "\r 24%|██▍       | 12/50 [02:07<06:43, 10.62s/it]"
          ]
        },
        {
          "output_type": "stream",
          "name": "stdout",
          "text": [
            "acc: 0.315\n",
            "[13,    20] loss: 3.12334\n",
            "[13,    40] loss: 3.17813\n",
            "[13,    60] loss: 3.15203\n",
            "[13,    80] loss: 3.04565\n",
            "[13,   100] loss: 3.14082\n"
          ]
        },
        {
          "output_type": "stream",
          "name": "stderr",
          "text": [
            "\r 26%|██▌       | 13/50 [02:18<06:33, 10.62s/it]"
          ]
        },
        {
          "output_type": "stream",
          "name": "stdout",
          "text": [
            "acc: 0.325\n",
            "[14,    20] loss: 3.06082\n",
            "[14,    40] loss: 3.11204\n",
            "[14,    60] loss: 3.07517\n",
            "[14,    80] loss: 3.06302\n",
            "[14,   100] loss: 3.15203\n"
          ]
        },
        {
          "output_type": "stream",
          "name": "stderr",
          "text": [
            "\r 28%|██▊       | 14/50 [02:29<06:21, 10.61s/it]"
          ]
        },
        {
          "output_type": "stream",
          "name": "stdout",
          "text": [
            "acc: 0.335\n",
            "[15,    20] loss: 3.05309\n",
            "[15,    40] loss: 3.11700\n",
            "[15,    60] loss: 3.08338\n",
            "[15,    80] loss: 2.96744\n",
            "[15,   100] loss: 3.04416\n"
          ]
        },
        {
          "output_type": "stream",
          "name": "stderr",
          "text": [
            "\r 30%|███       | 15/50 [02:39<06:11, 10.62s/it]"
          ]
        },
        {
          "output_type": "stream",
          "name": "stdout",
          "text": [
            "acc: 0.334\n",
            "[16,    20] loss: 3.01506\n",
            "[16,    40] loss: 2.97290\n",
            "[16,    60] loss: 2.98685\n",
            "[16,    80] loss: 3.02491\n",
            "[16,   100] loss: 3.05318\n"
          ]
        },
        {
          "output_type": "stream",
          "name": "stderr",
          "text": [
            "\r 32%|███▏      | 16/50 [02:50<06:01, 10.62s/it]"
          ]
        },
        {
          "output_type": "stream",
          "name": "stdout",
          "text": [
            "acc: 0.331\n",
            "[17,    20] loss: 2.99722\n",
            "[17,    40] loss: 2.96450\n",
            "[17,    60] loss: 2.99266\n",
            "[17,    80] loss: 2.99034\n",
            "[17,   100] loss: 2.99298\n"
          ]
        },
        {
          "output_type": "stream",
          "name": "stderr",
          "text": [
            "\r 34%|███▍      | 17/50 [03:00<05:50, 10.63s/it]"
          ]
        },
        {
          "output_type": "stream",
          "name": "stdout",
          "text": [
            "acc: 0.347\n",
            "[18,    20] loss: 2.99197\n",
            "[18,    40] loss: 3.02485\n",
            "[18,    60] loss: 2.92817\n",
            "[18,    80] loss: 2.98524\n",
            "[18,   100] loss: 2.92598\n"
          ]
        },
        {
          "output_type": "stream",
          "name": "stderr",
          "text": [
            "\r 36%|███▌      | 18/50 [03:11<05:40, 10.63s/it]"
          ]
        },
        {
          "output_type": "stream",
          "name": "stdout",
          "text": [
            "acc: 0.341\n",
            "[19,    20] loss: 2.83065\n",
            "[19,    40] loss: 2.93410\n",
            "[19,    60] loss: 2.94533\n",
            "[19,    80] loss: 2.92477\n",
            "[19,   100] loss: 2.93786\n"
          ]
        },
        {
          "output_type": "stream",
          "name": "stderr",
          "text": [
            "\r 38%|███▊      | 19/50 [03:22<05:29, 10.64s/it]"
          ]
        },
        {
          "output_type": "stream",
          "name": "stdout",
          "text": [
            "acc: 0.353\n",
            "[20,    20] loss: 2.86189\n",
            "[20,    40] loss: 2.94067\n",
            "[20,    60] loss: 2.90070\n",
            "[20,    80] loss: 2.77439\n",
            "[20,   100] loss: 2.94877\n"
          ]
        },
        {
          "output_type": "stream",
          "name": "stderr",
          "text": [
            "\r 40%|████      | 20/50 [03:32<05:18, 10.63s/it]"
          ]
        },
        {
          "output_type": "stream",
          "name": "stdout",
          "text": [
            "acc: 0.358\n",
            "[21,    20] loss: 2.82066\n",
            "[21,    40] loss: 2.88281\n",
            "[21,    60] loss: 2.87975\n",
            "[21,    80] loss: 2.94406\n",
            "[21,   100] loss: 2.85375\n"
          ]
        },
        {
          "output_type": "stream",
          "name": "stderr",
          "text": [
            "\r 42%|████▏     | 21/50 [03:43<05:07, 10.62s/it]"
          ]
        },
        {
          "output_type": "stream",
          "name": "stdout",
          "text": [
            "acc: 0.350\n",
            "[22,    20] loss: 2.80194\n",
            "[22,    40] loss: 2.84913\n",
            "[22,    60] loss: 2.82221\n",
            "[22,    80] loss: 2.86876\n",
            "[22,   100] loss: 2.85254\n"
          ]
        },
        {
          "output_type": "stream",
          "name": "stderr",
          "text": [
            "\r 44%|████▍     | 22/50 [03:54<04:57, 10.61s/it]"
          ]
        },
        {
          "output_type": "stream",
          "name": "stdout",
          "text": [
            "acc: 0.360\n",
            "[23,    20] loss: 2.80200\n",
            "[23,    40] loss: 2.86679\n",
            "[23,    60] loss: 2.81902\n",
            "[23,    80] loss: 2.81531\n",
            "[23,   100] loss: 2.85266\n"
          ]
        },
        {
          "output_type": "stream",
          "name": "stderr",
          "text": [
            "\r 46%|████▌     | 23/50 [04:04<04:47, 10.63s/it]"
          ]
        },
        {
          "output_type": "stream",
          "name": "stdout",
          "text": [
            "acc: 0.359\n",
            "[24,    20] loss: 2.87092\n",
            "[24,    40] loss: 2.74654\n",
            "[24,    60] loss: 2.83531\n",
            "[24,    80] loss: 2.78015\n",
            "[24,   100] loss: 2.77710\n"
          ]
        },
        {
          "output_type": "stream",
          "name": "stderr",
          "text": [
            "\r 48%|████▊     | 24/50 [04:15<04:36, 10.62s/it]"
          ]
        },
        {
          "output_type": "stream",
          "name": "stdout",
          "text": [
            "acc: 0.362\n",
            "[25,    20] loss: 2.77271\n",
            "[25,    40] loss: 2.82448\n",
            "[25,    60] loss: 2.84921\n",
            "[25,    80] loss: 2.77724\n",
            "[25,   100] loss: 2.75852\n"
          ]
        },
        {
          "output_type": "stream",
          "name": "stderr",
          "text": [
            "\r 50%|█████     | 25/50 [04:25<04:25, 10.61s/it]"
          ]
        },
        {
          "output_type": "stream",
          "name": "stdout",
          "text": [
            "acc: 0.363\n",
            "[26,    20] loss: 2.67761\n",
            "[26,    40] loss: 2.71273\n",
            "[26,    60] loss: 2.79146\n",
            "[26,    80] loss: 2.76718\n",
            "[26,   100] loss: 2.79252\n"
          ]
        },
        {
          "output_type": "stream",
          "name": "stderr",
          "text": [
            "\r 52%|█████▏    | 26/50 [04:36<04:14, 10.62s/it]"
          ]
        },
        {
          "output_type": "stream",
          "name": "stdout",
          "text": [
            "acc: 0.378\n",
            "[27,    20] loss: 2.76921\n",
            "[27,    40] loss: 2.67712\n",
            "[27,    60] loss: 2.72324\n",
            "[27,    80] loss: 2.66149\n",
            "[27,   100] loss: 2.72787\n"
          ]
        },
        {
          "output_type": "stream",
          "name": "stderr",
          "text": [
            "\r 54%|█████▍    | 27/50 [04:47<04:03, 10.61s/it]"
          ]
        },
        {
          "output_type": "stream",
          "name": "stdout",
          "text": [
            "acc: 0.380\n",
            "[28,    20] loss: 2.78149\n",
            "[28,    40] loss: 2.67220\n",
            "[28,    60] loss: 2.66903\n",
            "[28,    80] loss: 2.70151\n",
            "[28,   100] loss: 2.69899\n"
          ]
        },
        {
          "output_type": "stream",
          "name": "stderr",
          "text": [
            "\r 56%|█████▌    | 28/50 [04:57<03:53, 10.62s/it]"
          ]
        },
        {
          "output_type": "stream",
          "name": "stdout",
          "text": [
            "acc: 0.378\n",
            "[29,    20] loss: 2.65042\n",
            "[29,    40] loss: 2.69539\n",
            "[29,    60] loss: 2.69005\n",
            "[29,    80] loss: 2.65068\n",
            "[29,   100] loss: 2.74007\n"
          ]
        },
        {
          "output_type": "stream",
          "name": "stderr",
          "text": [
            "\r 58%|█████▊    | 29/50 [05:08<03:42, 10.61s/it]"
          ]
        },
        {
          "output_type": "stream",
          "name": "stdout",
          "text": [
            "acc: 0.382\n",
            "[30,    20] loss: 2.59784\n",
            "[30,    40] loss: 2.58891\n",
            "[30,    60] loss: 2.65203\n",
            "[30,    80] loss: 2.75909\n",
            "[30,   100] loss: 2.70651\n"
          ]
        },
        {
          "output_type": "stream",
          "name": "stderr",
          "text": [
            "\r 60%|██████    | 30/50 [05:19<03:32, 10.62s/it]"
          ]
        },
        {
          "output_type": "stream",
          "name": "stdout",
          "text": [
            "acc: 0.391\n",
            "[31,    20] loss: 2.69952\n",
            "[31,    40] loss: 2.58011\n",
            "[31,    60] loss: 2.72010\n",
            "[31,    80] loss: 2.58689\n",
            "[31,   100] loss: 2.71714\n"
          ]
        },
        {
          "output_type": "stream",
          "name": "stderr",
          "text": [
            "\r 62%|██████▏   | 31/50 [05:29<03:21, 10.62s/it]"
          ]
        },
        {
          "output_type": "stream",
          "name": "stdout",
          "text": [
            "acc: 0.380\n",
            "[32,    20] loss: 2.65952\n",
            "[32,    40] loss: 2.61497\n",
            "[32,    60] loss: 2.59459\n",
            "[32,    80] loss: 2.66840\n",
            "[32,   100] loss: 2.66238\n"
          ]
        },
        {
          "output_type": "stream",
          "name": "stderr",
          "text": [
            "\r 64%|██████▍   | 32/50 [05:40<03:11, 10.65s/it]"
          ]
        },
        {
          "output_type": "stream",
          "name": "stdout",
          "text": [
            "acc: 0.393\n",
            "[33,    20] loss: 2.58530\n",
            "[33,    40] loss: 2.61632\n",
            "[33,    60] loss: 2.66094\n",
            "[33,    80] loss: 2.63561\n",
            "[33,   100] loss: 2.53121\n"
          ]
        },
        {
          "output_type": "stream",
          "name": "stderr",
          "text": [
            "\r 66%|██████▌   | 33/50 [05:51<03:01, 10.67s/it]"
          ]
        },
        {
          "output_type": "stream",
          "name": "stdout",
          "text": [
            "acc: 0.399\n",
            "[34,    20] loss: 2.60542\n",
            "[34,    40] loss: 2.60469\n",
            "[34,    60] loss: 2.59558\n",
            "[34,    80] loss: 2.64210\n",
            "[34,   100] loss: 2.53597\n"
          ]
        },
        {
          "output_type": "stream",
          "name": "stderr",
          "text": [
            "\r 68%|██████▊   | 34/50 [06:01<02:50, 10.68s/it]"
          ]
        },
        {
          "output_type": "stream",
          "name": "stdout",
          "text": [
            "acc: 0.388\n",
            "[35,    20] loss: 2.59135\n",
            "[35,    40] loss: 2.51181\n",
            "[35,    60] loss: 2.60449\n",
            "[35,    80] loss: 2.56907\n",
            "[35,   100] loss: 2.63422\n"
          ]
        },
        {
          "output_type": "stream",
          "name": "stderr",
          "text": [
            "\r 70%|███████   | 35/50 [06:12<02:40, 10.70s/it]"
          ]
        },
        {
          "output_type": "stream",
          "name": "stdout",
          "text": [
            "acc: 0.409\n",
            "[36,    20] loss: 2.56751\n",
            "[36,    40] loss: 2.53788\n",
            "[36,    60] loss: 2.55265\n",
            "[36,    80] loss: 2.52875\n",
            "[36,   100] loss: 2.62601\n"
          ]
        },
        {
          "output_type": "stream",
          "name": "stderr",
          "text": [
            "\r 72%|███████▏  | 36/50 [06:23<02:29, 10.68s/it]"
          ]
        },
        {
          "output_type": "stream",
          "name": "stdout",
          "text": [
            "acc: 0.412\n",
            "[37,    20] loss: 2.56595\n",
            "[37,    40] loss: 2.60208\n",
            "[37,    60] loss: 2.48191\n",
            "[37,    80] loss: 2.57213\n",
            "[37,   100] loss: 2.51350\n"
          ]
        },
        {
          "output_type": "stream",
          "name": "stderr",
          "text": [
            "\r 74%|███████▍  | 37/50 [06:33<02:18, 10.67s/it]"
          ]
        },
        {
          "output_type": "stream",
          "name": "stdout",
          "text": [
            "acc: 0.408\n",
            "[38,    20] loss: 2.57822\n",
            "[38,    40] loss: 2.48979\n",
            "[38,    60] loss: 2.48099\n",
            "[38,    80] loss: 2.55767\n",
            "[38,   100] loss: 2.51359\n"
          ]
        },
        {
          "output_type": "stream",
          "name": "stderr",
          "text": [
            "\r 76%|███████▌  | 38/50 [06:44<02:08, 10.67s/it]"
          ]
        },
        {
          "output_type": "stream",
          "name": "stdout",
          "text": [
            "acc: 0.416\n",
            "[39,    20] loss: 2.57718\n",
            "[39,    40] loss: 2.44693\n",
            "[39,    60] loss: 2.47761\n",
            "[39,    80] loss: 2.57397\n",
            "[39,   100] loss: 2.47830\n"
          ]
        },
        {
          "output_type": "stream",
          "name": "stderr",
          "text": [
            "\r 78%|███████▊  | 39/50 [06:55<01:57, 10.67s/it]"
          ]
        },
        {
          "output_type": "stream",
          "name": "stdout",
          "text": [
            "acc: 0.403\n",
            "[40,    20] loss: 2.50422\n",
            "[40,    40] loss: 2.49567\n",
            "[40,    60] loss: 2.54086\n",
            "[40,    80] loss: 2.46180\n",
            "[40,   100] loss: 2.57159\n"
          ]
        },
        {
          "output_type": "stream",
          "name": "stderr",
          "text": [
            "\r 80%|████████  | 40/50 [07:05<01:46, 10.67s/it]"
          ]
        },
        {
          "output_type": "stream",
          "name": "stdout",
          "text": [
            "acc: 0.400\n",
            "[41,    20] loss: 2.48563\n",
            "[41,    40] loss: 2.43942\n",
            "[41,    60] loss: 2.52628\n",
            "[41,    80] loss: 2.44394\n",
            "[41,   100] loss: 2.50068\n"
          ]
        },
        {
          "output_type": "stream",
          "name": "stderr",
          "text": [
            "\r 82%|████████▏ | 41/50 [07:16<01:36, 10.67s/it]"
          ]
        },
        {
          "output_type": "stream",
          "name": "stdout",
          "text": [
            "acc: 0.405\n",
            "[42,    20] loss: 2.59769\n",
            "[42,    40] loss: 2.36419\n",
            "[42,    60] loss: 2.48266\n",
            "[42,    80] loss: 2.51091\n",
            "[42,   100] loss: 2.42077\n"
          ]
        },
        {
          "output_type": "stream",
          "name": "stderr",
          "text": [
            "\r 84%|████████▍ | 42/50 [07:27<01:25, 10.70s/it]"
          ]
        },
        {
          "output_type": "stream",
          "name": "stdout",
          "text": [
            "acc: 0.429\n",
            "[43,    20] loss: 2.46982\n",
            "[43,    40] loss: 2.43364\n",
            "[43,    60] loss: 2.56132\n",
            "[43,    80] loss: 2.43666\n",
            "[43,   100] loss: 2.43120\n"
          ]
        },
        {
          "output_type": "stream",
          "name": "stderr",
          "text": [
            "\r 86%|████████▌ | 43/50 [07:38<01:15, 10.72s/it]"
          ]
        },
        {
          "output_type": "stream",
          "name": "stdout",
          "text": [
            "acc: 0.414\n",
            "[44,    20] loss: 2.43635\n",
            "[44,    40] loss: 2.48413\n",
            "[44,    60] loss: 2.47907\n",
            "[44,    80] loss: 2.50333\n",
            "[44,   100] loss: 2.41255\n"
          ]
        },
        {
          "output_type": "stream",
          "name": "stderr",
          "text": [
            "\r 88%|████████▊ | 44/50 [07:48<01:04, 10.71s/it]"
          ]
        },
        {
          "output_type": "stream",
          "name": "stdout",
          "text": [
            "acc: 0.425\n",
            "[45,    20] loss: 2.48412\n",
            "[45,    40] loss: 2.44022\n",
            "[45,    60] loss: 2.39040\n",
            "[45,    80] loss: 2.41245\n",
            "[45,   100] loss: 2.46223\n"
          ]
        },
        {
          "output_type": "stream",
          "name": "stderr",
          "text": [
            "\r 90%|█████████ | 45/50 [07:59<00:53, 10.71s/it]"
          ]
        },
        {
          "output_type": "stream",
          "name": "stdout",
          "text": [
            "acc: 0.421\n",
            "[46,    20] loss: 2.39436\n",
            "[46,    40] loss: 2.43907\n",
            "[46,    60] loss: 2.39904\n",
            "[46,    80] loss: 2.45654\n",
            "[46,   100] loss: 2.45286\n"
          ]
        },
        {
          "output_type": "stream",
          "name": "stderr",
          "text": [
            "\r 92%|█████████▏| 46/50 [08:10<00:42, 10.71s/it]"
          ]
        },
        {
          "output_type": "stream",
          "name": "stdout",
          "text": [
            "acc: 0.421\n",
            "[47,    20] loss: 2.41530\n",
            "[47,    40] loss: 2.41466\n",
            "[47,    60] loss: 2.43282\n",
            "[47,    80] loss: 2.40227\n",
            "[47,   100] loss: 2.34038\n"
          ]
        },
        {
          "output_type": "stream",
          "name": "stderr",
          "text": [
            "\r 94%|█████████▍| 47/50 [08:20<00:32, 10.72s/it]"
          ]
        },
        {
          "output_type": "stream",
          "name": "stdout",
          "text": [
            "acc: 0.423\n",
            "[48,    20] loss: 2.33405\n",
            "[48,    40] loss: 2.40189\n",
            "[48,    60] loss: 2.41484\n",
            "[48,    80] loss: 2.33673\n",
            "[48,   100] loss: 2.53450\n"
          ]
        },
        {
          "output_type": "stream",
          "name": "stderr",
          "text": [
            "\r 96%|█████████▌| 48/50 [08:31<00:21, 10.72s/it]"
          ]
        },
        {
          "output_type": "stream",
          "name": "stdout",
          "text": [
            "acc: 0.433\n",
            "[49,    20] loss: 2.36293\n",
            "[49,    40] loss: 2.36965\n",
            "[49,    60] loss: 2.45824\n",
            "[49,    80] loss: 2.32537\n",
            "[49,   100] loss: 2.42129\n"
          ]
        },
        {
          "output_type": "stream",
          "name": "stderr",
          "text": [
            "\r 98%|█████████▊| 49/50 [08:42<00:10, 10.72s/it]"
          ]
        },
        {
          "output_type": "stream",
          "name": "stdout",
          "text": [
            "acc: 0.426\n",
            "[50,    20] loss: 2.40235\n",
            "[50,    40] loss: 2.29412\n",
            "[50,    60] loss: 2.36142\n",
            "[50,    80] loss: 2.39437\n",
            "[50,   100] loss: 2.41146\n"
          ]
        },
        {
          "output_type": "stream",
          "name": "stderr",
          "text": [
            "100%|██████████| 50/50 [08:53<00:00, 10.66s/it]"
          ]
        },
        {
          "output_type": "stream",
          "name": "stdout",
          "text": [
            "acc: 0.428\n",
            "Finished Training\n"
          ]
        },
        {
          "output_type": "stream",
          "name": "stderr",
          "text": [
            "\n"
          ]
        }
      ]
    },
    {
      "cell_type": "code",
      "source": [
        "model_test(sparseresnet18, testloader)"
      ],
      "metadata": {
        "colab": {
          "base_uri": "https://localhost:8080/"
        },
        "id": "8sWFtuW-AXa6",
        "outputId": "29fb28f5-f8f7-49ed-a694-a7449dd95c60"
      },
      "execution_count": null,
      "outputs": [
        {
          "output_type": "execute_result",
          "data": {
            "text/plain": [
              "0.4279953917050691"
            ]
          },
          "metadata": {},
          "execution_count": 30
        }
      ]
    },
    {
      "cell_type": "code",
      "source": [
        "plt.plot(acc)"
      ],
      "metadata": {
        "colab": {
          "base_uri": "https://localhost:8080/",
          "height": 448
        },
        "id": "gSdAPcTbBAg8",
        "outputId": "7a5688d7-77bf-41e4-b697-ad2c1238b90d"
      },
      "execution_count": null,
      "outputs": [
        {
          "output_type": "execute_result",
          "data": {
            "text/plain": [
              "[<matplotlib.lines.Line2D at 0x7c8b8d524b50>]"
            ]
          },
          "metadata": {},
          "execution_count": 31
        },
        {
          "output_type": "display_data",
          "data": {
            "text/plain": [
              "<Figure size 640x480 with 1 Axes>"
            ],
            "image/png": "[encoded data removed]"
          },
          "metadata": {}
        }
      ]
    },
    {
      "cell_type": "code",
      "source": [],
      "metadata": {
        "id": "asKUA3q1ELRC"
      },
      "execution_count": null,
      "outputs": []
    }
  ]
}